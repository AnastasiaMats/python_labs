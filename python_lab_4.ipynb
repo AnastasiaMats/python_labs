{
 "cells": [
  {
   "cell_type": "markdown",
   "metadata": {},
   "source": [
    "# Лабораторная работа № 4"
   ]
  },
  {
   "cell_type": "markdown",
   "metadata": {},
   "source": [
    "Мацыкина А.С."
   ]
  },
  {
   "cell_type": "markdown",
   "metadata": {},
   "source": [
    "Группа: Т12О-101М-20"
   ]
  },
  {
   "cell_type": "markdown",
   "metadata": {},
   "source": [
    "Дата: 13.11.2020"
   ]
  },
  {
   "cell_type": "markdown",
   "metadata": {},
   "source": [
    "### 1. Импортировать модули sys numpy pandas"
   ]
  },
  {
   "cell_type": "code",
   "execution_count": 51,
   "metadata": {},
   "outputs": [],
   "source": [
    "import sys\n",
    "import numpy as np\n",
    "import pandas as pd"
   ]
  },
  {
   "cell_type": "markdown",
   "metadata": {},
   "source": [
    "### 2. Создать объект pandas Серия из листа, объекта NumPy, и словаря"
   ]
  },
  {
   "cell_type": "code",
   "execution_count": 52,
   "metadata": {},
   "outputs": [
    {
     "name": "stdout",
     "output_type": "stream",
     "text": [
      "0    o\n",
      "1    l\n",
      "2    o\n",
      "3    l\n",
      "4    o\n",
      "5    l\n",
      "6    o\n",
      "7    l\n",
      "8    o\n",
      "dtype: object\n",
      "\n",
      "0    0\n",
      "1    1\n",
      "2    2\n",
      "3    3\n",
      "4    4\n",
      "5    5\n",
      "6    6\n",
      "7    7\n",
      "8    8\n",
      "9    9\n",
      "dtype: int32\n",
      "\n",
      "a    1\n",
      "b    2\n",
      "c    3\n",
      "d    4\n",
      "dtype: object\n"
     ]
    }
   ],
   "source": [
    "src_list = list('ololololo')\n",
    "src_arr = np.arange(10)\n",
    "src_dict = dict(a='1', b='2', c='3', d='4')\n",
    " \n",
    "s1 = pd.Series(src_list)\n",
    "s2 = pd.Series(src_arr)\n",
    "s3 = pd.Series(src_dict)\n",
    "\n",
    " \n",
    "print(s1)\n",
    "print()\n",
    "print(s2)\n",
    "print()\n",
    "print(s3)"
   ]
  },
  {
   "cell_type": "markdown",
   "metadata": {},
   "source": [
    "### 3. Преобразовать объект Series в DataFrame"
   ]
  },
  {
   "cell_type": "markdown",
   "metadata": {},
   "source": [
    "##### создать объект серии"
   ]
  },
  {
   "cell_type": "code",
   "execution_count": 53,
   "metadata": {},
   "outputs": [
    {
     "name": "stdout",
     "output_type": "stream",
     "text": [
      "a    1\n",
      "b    2\n",
      "c    3\n",
      "dtype: object\n"
     ]
    }
   ],
   "source": [
    "s = pd.Series({'a': '1', 'b': '2', 'c': '3'})\n",
    "print(s)"
   ]
  },
  {
   "cell_type": "markdown",
   "metadata": {},
   "source": [
    "##### преобразовать в DataFrame"
   ]
  },
  {
   "cell_type": "code",
   "execution_count": 54,
   "metadata": {},
   "outputs": [
    {
     "name": "stdout",
     "output_type": "stream",
     "text": [
      "   0\n",
      "a  1\n",
      "b  2\n",
      "c  3\n"
     ]
    }
   ],
   "source": [
    "s = s.to_frame()\n",
    "print(s)"
   ]
  },
  {
   "cell_type": "markdown",
   "metadata": {},
   "source": [
    "### 4. Oбъединить несколько объектов Серии в Dataframe"
   ]
  },
  {
   "cell_type": "code",
   "execution_count": 55,
   "metadata": {},
   "outputs": [
    {
     "name": "stdout",
     "output_type": "stream",
     "text": [
      "0    o\n",
      "1    l\n",
      "2    o\n",
      "3    l\n",
      "4    o\n",
      "5    l\n",
      "6    o\n",
      "7    l\n",
      "8    o\n",
      "dtype: object\n",
      "\n",
      "0    0\n",
      "1    1\n",
      "2    2\n",
      "3    3\n",
      "4    4\n",
      "5    5\n",
      "6    6\n",
      "7    7\n",
      "8    8\n",
      "9    9\n",
      "dtype: int32\n",
      "\n",
      "     0  1\n",
      "0    o  0\n",
      "1    l  1\n",
      "2    o  2\n",
      "3    l  3\n",
      "4    o  4\n",
      "5    l  5\n",
      "6    o  6\n",
      "7    l  7\n",
      "8    o  8\n",
      "9  NaN  9\n"
     ]
    }
   ],
   "source": [
    "src_list = pd.Series(list('ololololo'))\n",
    "src_arr = pd.Series(np.arange(10))\n",
    "\n",
    "print(src_list)\n",
    "print()\n",
    "print(src_arr)\n",
    "print()\n",
    "\n",
    "a = pd.concat([src_list, src_arr], axis=1)\n",
    "print(a)"
   ]
  },
  {
   "cell_type": "markdown",
   "metadata": {},
   "source": [
    "### 5. Присвоить имя индексу объекта Серия"
   ]
  },
  {
   "cell_type": "code",
   "execution_count": 56,
   "metadata": {},
   "outputs": [
    {
     "name": "stdout",
     "output_type": "stream",
     "text": [
      "a    1\n",
      "b    2\n",
      "c    3\n",
      "dtype: int64\n",
      "\n",
      "a    1\n",
      "b    2\n",
      "c    3\n",
      "Name: ololo, dtype: int64\n",
      "\n",
      "a    5\n",
      "b    6\n",
      "c    7\n",
      "Name: abcdefj, dtype: int64\n"
     ]
    }
   ],
   "source": [
    "s = pd.Series({'a': 1, 'b': 2, 'c': 3})\n",
    "print(s)\n",
    "print()\n",
    "s.name = 'ololo'\n",
    "print(s)\n",
    "print()\n",
    "\n",
    "s1 = pd.Series({'a': 5, 'b': 6, 'c': 7}, name='abcdefj')\n",
    "print(s1)"
   ]
  },
  {
   "cell_type": "markdown",
   "metadata": {},
   "source": [
    "### 6. Получить элементы объекта серии A, которых нет в объекте серии B"
   ]
  },
  {
   "cell_type": "code",
   "execution_count": 57,
   "metadata": {},
   "outputs": [
    {
     "name": "stdout",
     "output_type": "stream",
     "text": [
      "0     5\n",
      "1     8\n",
      "2     1\n",
      "3     2\n",
      "4    13\n",
      "dtype: int64\n",
      "\n",
      "0     5\n",
      "1     6\n",
      "2     7\n",
      "3     8\n",
      "4     9\n",
      "5    10\n",
      "dtype: int64\n"
     ]
    }
   ],
   "source": [
    "A = pd.Series([5, 8, 1, 2, 13])\n",
    "B = pd.Series([5, 6, 7, 8, 9, 10])\n",
    "print(A)\n",
    "print()\n",
    "print(B)"
   ]
  },
  {
   "cell_type": "markdown",
   "metadata": {},
   "source": [
    "##### возвратить вместе с индексами"
   ]
  },
  {
   "cell_type": "code",
   "execution_count": 58,
   "metadata": {},
   "outputs": [
    {
     "name": "stdout",
     "output_type": "stream",
     "text": [
      "2     1\n",
      "3     2\n",
      "4    13\n",
      "dtype: int64\n"
     ]
    }
   ],
   "source": [
    "ans = A[~A.isin(B)]\n",
    "print(ans)"
   ]
  },
  {
   "cell_type": "markdown",
   "metadata": {},
   "source": [
    "#####  возвратить значения"
   ]
  },
  {
   "cell_type": "code",
   "execution_count": 59,
   "metadata": {},
   "outputs": [
    {
     "name": "stdout",
     "output_type": "stream",
     "text": [
      "[ 1  2 13]\n"
     ]
    }
   ],
   "source": [
    "ans = np.setdiff1d(A, B, assume_unique=True)\n",
    "print(ans)"
   ]
  },
  {
   "cell_type": "markdown",
   "metadata": {},
   "source": [
    "### 7. Получить не пересекающиеся элементы в двух объектах серии"
   ]
  },
  {
   "cell_type": "code",
   "execution_count": 60,
   "metadata": {},
   "outputs": [
    {
     "name": "stdout",
     "output_type": "stream",
     "text": [
      "0     5\n",
      "1     8\n",
      "2     1\n",
      "3     2\n",
      "4    13\n",
      "dtype: int64\n",
      "\n",
      "0     5\n",
      "1     6\n",
      "2     7\n",
      "3     8\n",
      "4     9\n",
      "5    10\n",
      "dtype: int64\n"
     ]
    }
   ],
   "source": [
    "A = pd.Series([5, 8, 1, 2, 13])\n",
    "B = pd.Series([5, 6, 7, 8, 9, 10])\n",
    "print(A)\n",
    "print()\n",
    "print(B)"
   ]
  },
  {
   "cell_type": "markdown",
   "metadata": {},
   "source": [
    "#####  получить объединенный Серия без повтороений"
   ]
  },
  {
   "cell_type": "code",
   "execution_count": 61,
   "metadata": {},
   "outputs": [
    {
     "name": "stdout",
     "output_type": "stream",
     "text": [
      "0     1\n",
      "1     2\n",
      "2     5\n",
      "3     6\n",
      "4     7\n",
      "5     8\n",
      "6     9\n",
      "7    10\n",
      "8    13\n",
      "dtype: int64\n"
     ]
    }
   ],
   "source": [
    "s_union = pd.Series(np.union1d(A, B))\n",
    "print(s_union)"
   ]
  },
  {
   "cell_type": "markdown",
   "metadata": {},
   "source": [
    "##### получить пересекающиеся данные"
   ]
  },
  {
   "cell_type": "code",
   "execution_count": 62,
   "metadata": {},
   "outputs": [
    {
     "name": "stdout",
     "output_type": "stream",
     "text": [
      "0    5\n",
      "1    8\n",
      "dtype: int64\n"
     ]
    }
   ],
   "source": [
    "s_intersect = pd.Series(np.intersect1d(A, B))\n",
    "print(s_intersect)"
   ]
  },
  {
   "cell_type": "markdown",
   "metadata": {},
   "source": [
    "##### отобрать все данные, кроме пересекающихся. Возвратить вместе с индексами"
   ]
  },
  {
   "cell_type": "code",
   "execution_count": 63,
   "metadata": {},
   "outputs": [
    {
     "name": "stdout",
     "output_type": "stream",
     "text": [
      "0     1\n",
      "1     2\n",
      "3     6\n",
      "4     7\n",
      "6     9\n",
      "7    10\n",
      "8    13\n",
      "dtype: int64\n"
     ]
    }
   ],
   "source": [
    "ans = s_union[~s_union.isin(s_intersect)]\n",
    "print(ans)"
   ]
  },
  {
   "cell_type": "markdown",
   "metadata": {},
   "source": [
    "#####  возвратить значения"
   ]
  },
  {
   "cell_type": "code",
   "execution_count": 64,
   "metadata": {},
   "outputs": [
    {
     "name": "stdout",
     "output_type": "stream",
     "text": [
      "[ 1  2  6  7  9 10 13]\n"
     ]
    }
   ],
   "source": [
    "ans2 = np.setxor1d(A, B, assume_unique=True)\n",
    "print(ans2)"
   ]
  }
 ],
 "metadata": {
  "kernelspec": {
   "display_name": "Python 3",
   "language": "python",
   "name": "python3"
  },
  "language_info": {
   "codemirror_mode": {
    "name": "ipython",
    "version": 3
   },
   "file_extension": ".py",
   "mimetype": "text/x-python",
   "name": "python",
   "nbconvert_exporter": "python",
   "pygments_lexer": "ipython3",
   "version": "3.8.3"
  }
 },
 "nbformat": 4,
 "nbformat_minor": 4
}
