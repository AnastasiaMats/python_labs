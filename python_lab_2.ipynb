{
 "cells": [
  {
   "cell_type": "markdown",
   "metadata": {},
   "source": [
    "# Лабораторная работа № 2"
   ]
  },
  {
   "cell_type": "markdown",
   "metadata": {},
   "source": [
    "Мацыкина А.С."
   ]
  },
  {
   "cell_type": "markdown",
   "metadata": {},
   "source": [
    "Группа: Т12О-101М-20"
   ]
  },
  {
   "cell_type": "markdown",
   "metadata": {},
   "source": [
    "Дата: 30.10.2020"
   ]
  },
  {
   "cell_type": "code",
   "execution_count": 1,
   "metadata": {},
   "outputs": [],
   "source": [
    "import numpy as np"
   ]
  },
  {
   "cell_type": "markdown",
   "metadata": {},
   "source": [
    "## 1. Перемножить матрицы 5x3 и 3x2"
   ]
  },
  {
   "cell_type": "code",
   "execution_count": 4,
   "metadata": {},
   "outputs": [
    {
     "name": "stdout",
     "output_type": "stream",
     "text": [
      "[[3. 3.]\n",
      " [3. 3.]\n",
      " [3. 3.]\n",
      " [3. 3.]\n",
      " [3. 3.]]\n"
     ]
    }
   ],
   "source": [
    "M = np.dot(np.ones((5,3)), np.ones((3,2)))\n",
    "print(M)"
   ]
  },
  {
   "cell_type": "markdown",
   "metadata": {},
   "source": [
    "## 2. Дан массив, поменять знак у элементов, значения которых между 3 и 8"
   ]
  },
  {
   "cell_type": "code",
   "execution_count": 14,
   "metadata": {},
   "outputs": [
    {
     "name": "stdout",
     "output_type": "stream",
     "text": [
      "[ 0  1  2  3 -4 -5 -6 -7 -8  9]\n"
     ]
    }
   ],
   "source": [
    "mass = np.arange(10)\n",
    "mass[(3 < mass) & (mass <= 8)] *= -1\n",
    "print(mass)"
   ]
  },
  {
   "cell_type": "markdown",
   "metadata": {},
   "source": [
    "## 3. Создать 5x5 матрицу со значениями в строках от 0 до 4"
   ]
  },
  {
   "cell_type": "code",
   "execution_count": 9,
   "metadata": {},
   "outputs": [
    {
     "name": "stdout",
     "output_type": "stream",
     "text": [
      "[[0. 1. 2. 3. 4.]\n",
      " [0. 1. 2. 3. 4.]\n",
      " [0. 1. 2. 3. 4.]\n",
      " [0. 1. 2. 3. 4.]\n",
      " [0. 1. 2. 3. 4.]]\n"
     ]
    }
   ],
   "source": [
    "M = np.zeros((5,5))\n",
    "M += np.arange(5)\n",
    "print(M)"
   ]
  },
  {
   "cell_type": "markdown",
   "metadata": {},
   "source": [
    "## 4. Есть генератор, сделать с его помощью массив"
   ]
  },
  {
   "cell_type": "code",
   "execution_count": 15,
   "metadata": {},
   "outputs": [
    {
     "name": "stdout",
     "output_type": "stream",
     "text": [
      "[0. 1. 2. 3. 4. 5. 6. 7. 8. 9.]\n"
     ]
    }
   ],
   "source": [
    "def generate():\n",
    "    for x in range(10):\n",
    "        yield x\n",
    "mass = np.fromiter(generate(),dtype=float,count=-1)\n",
    "print(mass)"
   ]
  },
  {
   "cell_type": "markdown",
   "metadata": {},
   "source": [
    "## 5. Создать вектор размера 10 со значениями от 0 до 1, не включая ни то, ни другое"
   ]
  },
  {
   "cell_type": "code",
   "execution_count": 16,
   "metadata": {},
   "outputs": [
    {
     "name": "stdout",
     "output_type": "stream",
     "text": [
      "[0.09090909 0.18181818 0.27272727 0.36363636 0.45454545 0.54545455\n",
      " 0.63636364 0.72727273 0.81818182 0.90909091]\n"
     ]
    }
   ],
   "source": [
    "Vec = np.linspace(0,1,12)[1:-1]\n",
    "print(Vec)"
   ]
  },
  {
   "cell_type": "markdown",
   "metadata": {},
   "source": [
    "## 6. Отсортировать вектор"
   ]
  },
  {
   "cell_type": "code",
   "execution_count": 18,
   "metadata": {},
   "outputs": [
    {
     "name": "stdout",
     "output_type": "stream",
     "text": [
      "[0.0137635  0.13645569 0.18399993 0.22357971 0.33060814 0.39729818\n",
      " 0.44570123 0.47868136 0.55545813 0.63573043 0.75819308 0.78855386\n",
      " 0.78989598 0.79785044 0.81645598]\n"
     ]
    }
   ],
   "source": [
    "Vec = np.random.random(15)\n",
    "Vec.sort()\n",
    "print(Vec)"
   ]
  },
  {
   "cell_type": "markdown",
   "metadata": {},
   "source": [
    "## 7. Проверить, одинаковы ли 2 numpy массива"
   ]
  },
  {
   "cell_type": "code",
   "execution_count": 29,
   "metadata": {},
   "outputs": [
    {
     "name": "stdout",
     "output_type": "stream",
     "text": [
      "False\n"
     ]
    }
   ],
   "source": [
    "mass1 = np.array([7, 5, 0])\n",
    "mass2 = np.array([0, 5, 7])\n",
    "equal = np.allclose(mass1, mass2)\n",
    "print(equal)"
   ]
  },
  {
   "cell_type": "markdown",
   "metadata": {},
   "source": [
    "## 8. Сделать массив неизменяемым"
   ]
  },
  {
   "cell_type": "code",
   "execution_count": 28,
   "metadata": {},
   "outputs": [
    {
     "ename": "ValueError",
     "evalue": "assignment destination is read-only",
     "output_type": "error",
     "traceback": [
      "\u001b[1;31m---------------------------------------------------------------------------\u001b[0m",
      "\u001b[1;31mValueError\u001b[0m                                Traceback (most recent call last)",
      "\u001b[1;32m<ipython-input-28-b90de1238a30>\u001b[0m in \u001b[0;36m<module>\u001b[1;34m\u001b[0m\n\u001b[0;32m      1\u001b[0m \u001b[0mmass\u001b[0m \u001b[1;33m=\u001b[0m \u001b[0mnp\u001b[0m\u001b[1;33m.\u001b[0m\u001b[0mones\u001b[0m\u001b[1;33m(\u001b[0m\u001b[1;36m10\u001b[0m\u001b[1;33m)\u001b[0m\u001b[1;33m\u001b[0m\u001b[1;33m\u001b[0m\u001b[0m\n\u001b[0;32m      2\u001b[0m \u001b[0mmass\u001b[0m\u001b[1;33m.\u001b[0m\u001b[0mflags\u001b[0m\u001b[1;33m.\u001b[0m\u001b[0mwriteable\u001b[0m \u001b[1;33m=\u001b[0m \u001b[1;32mFalse\u001b[0m\u001b[1;33m\u001b[0m\u001b[1;33m\u001b[0m\u001b[0m\n\u001b[1;32m----> 3\u001b[1;33m \u001b[0mmass\u001b[0m\u001b[1;33m[\u001b[0m\u001b[1;36m0\u001b[0m\u001b[1;33m]\u001b[0m \u001b[1;33m=\u001b[0m \u001b[1;36m5\u001b[0m\u001b[1;33m\u001b[0m\u001b[1;33m\u001b[0m\u001b[0m\n\u001b[0m",
      "\u001b[1;31mValueError\u001b[0m: assignment destination is read-only"
     ]
    }
   ],
   "source": [
    "mass = np.ones(10)\n",
    "mass.flags.writeable = False\n",
    "mass[0] = 5"
   ]
  },
  {
   "cell_type": "markdown",
   "metadata": {},
   "source": [
    "## 9. Дан массив 10x2 (точки в декартовой системе координат), преобразовать в полярную"
   ]
  },
  {
   "cell_type": "code",
   "execution_count": 31,
   "metadata": {},
   "outputs": [
    {
     "name": "stdout",
     "output_type": "stream",
     "text": [
      "[0.5175356  0.79139955 0.50299621 1.16232888 1.02593825 0.73662589\n",
      " 1.01026126 0.85354658 1.0082513  0.79372895]\n",
      "[0.19211882 0.63582914 0.98045373 0.82315637 0.47878392 0.58701004\n",
      " 1.2823441  0.73478755 0.25467204 0.05653824]\n"
     ]
    }
   ],
   "source": [
    "mass = np.random.random((10,2))\n",
    "X,Y = mass[:,0], mass[:,1]\n",
    "R = np.hypot(X, Y)\n",
    "T = np.arctan2(Y, X)\n",
    "print(R)\n",
    "print(T)"
   ]
  },
  {
   "cell_type": "markdown",
   "metadata": {},
   "source": [
    "## 10. Заменить максимальный элемент на ноль"
   ]
  },
  {
   "cell_type": "code",
   "execution_count": 32,
   "metadata": {},
   "outputs": [
    {
     "name": "stdout",
     "output_type": "stream",
     "text": [
      "[0.30477047 0.51192265 0.27638571 0.         0.30859986 0.29096637\n",
      " 0.28321258 0.03671995 0.10292091 0.10905602]\n"
     ]
    }
   ],
   "source": [
    "mass = np.random.random(10)\n",
    "mass[mass.argmax()] = 0\n",
    "print(mass)"
   ]
  },
  {
   "cell_type": "markdown",
   "metadata": {},
   "source": [
    "## 11. Создать структурированный массив с координатами x, y на сетке в квадрате [0,1]x[0,1]"
   ]
  },
  {
   "cell_type": "code",
   "execution_count": 37,
   "metadata": {},
   "outputs": [
    {
     "name": "stdout",
     "output_type": "stream",
     "text": [
      "[[(0.  , 0.  ) (0.25, 0.  ) (0.5 , 0.  ) (0.75, 0.  ) (1.  , 0.  )]\n",
      " [(0.  , 0.25) (0.25, 0.25) (0.5 , 0.25) (0.75, 0.25) (1.  , 0.25)]\n",
      " [(0.  , 0.5 ) (0.25, 0.5 ) (0.5 , 0.5 ) (0.75, 0.5 ) (1.  , 0.5 )]\n",
      " [(0.  , 0.75) (0.25, 0.75) (0.5 , 0.75) (0.75, 0.75) (1.  , 0.75)]\n",
      " [(0.  , 1.  ) (0.25, 1.  ) (0.5 , 1.  ) (0.75, 1.  ) (1.  , 1.  )]]\n"
     ]
    }
   ],
   "source": [
    "mass = np.zeros((5,5), [('x',float),('y',float)])\n",
    "mass['x'], mass['y'] = np.meshgrid(np.linspace(0,1,5), np.linspace(0,1,5))\n",
    "print(mass)"
   ]
  },
  {
   "cell_type": "markdown",
   "metadata": {},
   "source": [
    "## 12. Из двух массивов сделать матрицу Коши C (Cij = 1/(xi - yj))"
   ]
  },
  {
   "cell_type": "code",
   "execution_count": 51,
   "metadata": {},
   "outputs": [
    {
     "name": "stdout",
     "output_type": "stream",
     "text": [
      "[[ -1.43264167 -11.0310757   -2.02056431  -1.18027311 -28.44168615]\n",
      " [  3.50594489   1.12033763   2.04779633   7.35404809   1.05476175]\n",
      " [ 26.9848451    1.5517924    4.16392821  -8.91325618   1.4287563 ]\n",
      " [  3.62854563   1.13256598   2.08902369   7.91500997   1.06559357]\n",
      " [  5.08053345   1.24349036   2.50043929  21.01748031   1.16322175]]\n"
     ]
    }
   ],
   "source": [
    "mass1 = np.random.random(5)\n",
    "mass2 = np.random.random(5)\n",
    "M = 1 / (mass1.reshape((-1, 1)) - mass2)\n",
    "print(M)"
   ]
  },
  {
   "cell_type": "markdown",
   "metadata": {},
   "source": [
    "## 13. Найти минимальное и максимальное значение, принимаемое каждым числовым типом numpy"
   ]
  },
  {
   "cell_type": "code",
   "execution_count": 53,
   "metadata": {},
   "outputs": [
    {
     "name": "stdout",
     "output_type": "stream",
     "text": [
      "-128\n",
      "127\n",
      "-32768\n",
      "32767\n",
      "-2147483648\n",
      "2147483647\n",
      "-9223372036854775808\n",
      "9223372036854775807\n",
      "0\n",
      "255\n",
      "0\n",
      "65535\n",
      "0\n",
      "4294967295\n",
      "0\n",
      "18446744073709551615\n",
      "-65500.0\n",
      "65500.0\n",
      "-3.4028235e+38\n",
      "3.4028235e+38\n",
      "-1.7976931348623157e+308\n",
      "1.7976931348623157e+308\n",
      "-3.4028235e+38\n",
      "3.4028235e+38\n",
      "-1.7976931348623157e+308\n",
      "1.7976931348623157e+308\n"
     ]
    }
   ],
   "source": [
    "for dtype in [np.int8, np.int16, np.int32, np.int64]:\n",
    "    print(np.iinfo(dtype).min)\n",
    "    print(np.iinfo(dtype).max)\n",
    "for dtype in [np.uint8, np.uint16, np.uint32, np.uint64]:\n",
    "    print(np.iinfo(dtype).min)\n",
    "    print(np.iinfo(dtype).max)\n",
    "for dtype in [np.float16, np.float32, np.float_]:\n",
    "    print(np.finfo(dtype).min)\n",
    "    print(np.finfo(dtype).max)\n",
    "for dtype in [np.complex64, np.complex128]:\n",
    "    print(np.finfo(dtype).min)\n",
    "    print(np.finfo(dtype).max)"
   ]
  },
  {
   "cell_type": "markdown",
   "metadata": {},
   "source": [
    "## 14. Напечатать все значения в массиве"
   ]
  },
  {
   "cell_type": "code",
   "execution_count": 58,
   "metadata": {},
   "outputs": [
    {
     "name": "stdout",
     "output_type": "stream",
     "text": [
      "[0.18837256 0.14383601 0.14695199 0.70290127 0.67656914]\n",
      "\n",
      "0.18837256370339772\n",
      "0.14383600839119448\n",
      "0.1469519934475877\n",
      "0.7029012714755197\n",
      "0.6765691351252319\n"
     ]
    }
   ],
   "source": [
    "mass = np.random.random(5)\n",
    "print(mass)\n",
    "print()\n",
    "for i in mass:\n",
    "    print(i)"
   ]
  },
  {
   "cell_type": "markdown",
   "metadata": {},
   "source": [
    "## 15. Найти ближайшее к заданному значению число в заданном массиве"
   ]
  },
  {
   "cell_type": "code",
   "execution_count": 66,
   "metadata": {},
   "outputs": [
    {
     "name": "stdout",
     "output_type": "stream",
     "text": [
      "[0 1 2 3 4 5 6 7 8 9] 6\n",
      "6\n"
     ]
    }
   ],
   "source": [
    "mass1 = np.arange(10)\n",
    "mass2 = np.random.randint(10)\n",
    "index = (np.abs(mass1-mass2)).argmin()\n",
    "print(mass1, mass2)\n",
    "print(mass1[index])"
   ]
  },
  {
   "cell_type": "markdown",
   "metadata": {},
   "source": [
    "## 16. Создать структурированный массив, представляющий координату (x,y) и цвет (r,g,b)"
   ]
  },
  {
   "cell_type": "code",
   "execution_count": 68,
   "metadata": {},
   "outputs": [
    {
     "name": "stdout",
     "output_type": "stream",
     "text": [
      "[((0., 0.), (0., 0., 0.)) ((0., 0.), (0., 0., 0.))\n",
      " ((0., 0.), (0., 0., 0.)) ((0., 0.), (0., 0., 0.))\n",
      " ((0., 0.), (0., 0., 0.)) ((0., 0.), (0., 0., 0.))\n",
      " ((0., 0.), (0., 0., 0.)) ((0., 0.), (0., 0., 0.))\n",
      " ((0., 0.), (0., 0., 0.)) ((0., 0.), (0., 0., 0.))]\n"
     ]
    },
    {
     "name": "stderr",
     "output_type": "stream",
     "text": [
      "<ipython-input-68-c2f96bc0deb6>:1: FutureWarning: Passing (type, 1) or '1type' as a synonym of type is deprecated; in a future version of numpy, it will be understood as (type, (1,)) / '(1,)type'.\n",
      "  Z = np.zeros(10, [ ('position', [('x', float, 1),\n"
     ]
    }
   ],
   "source": [
    "Z = np.zeros(10, [ ('position', [('x', float, 1),\n",
    "                                 ('y', float, 1)]),\n",
    "                  ('color',    [('r', float, 1),\n",
    "                                ('g', float, 1),\n",
    "                                ('b', float, 1)])])\n",
    "print(Z)"
   ]
  },
  {
   "cell_type": "markdown",
   "metadata": {},
   "source": [
    "## 17. Дан массив (100,2) координат, найти расстояние от каждой точки до каждой"
   ]
  },
  {
   "cell_type": "code",
   "execution_count": 113,
   "metadata": {},
   "outputs": [
    {
     "name": "stdout",
     "output_type": "stream",
     "text": [
      "[[0.         0.60122771 0.35712995 ... 0.57380832 0.49438523 0.07521884]\n",
      " [0.60122771 0.         0.95464174 ... 0.18792431 1.03809822 0.58746919]\n",
      " [0.35712995 0.95464174 0.         ... 0.92891372 0.36784091 0.3696166 ]\n",
      " ...\n",
      " [0.57380832 0.18792431 0.92891372 ... 0.         0.9452316  0.58405924]\n",
      " [0.49438523 1.03809822 0.36784091 ... 0.9452316  0.         0.5552779 ]\n",
      " [0.07521884 0.58746919 0.3696166  ... 0.58405924 0.5552779  0.        ]]\n"
     ]
    }
   ],
   "source": [
    "import scipy.spatial\n",
    "\n",
    "mass = np.random.random((100,2))\n",
    "len_ = scipy.spatial.distance.cdist(mass,mass)\n",
    "print(len_)"
   ]
  },
  {
   "cell_type": "markdown",
   "metadata": {},
   "source": [
    "## 18. Преобразовать массив из float в int"
   ]
  },
  {
   "cell_type": "code",
   "execution_count": 74,
   "metadata": {},
   "outputs": [
    {
     "name": "stdout",
     "output_type": "stream",
     "text": [
      "[0 1 2 3 4 5 6 7 8 9]\n"
     ]
    }
   ],
   "source": [
    "mass = np.arange(10, dtype=np.float32)\n",
    "mass = mass.astype(np.int32, copy=False)\n",
    "print(mass)"
   ]
  },
  {
   "cell_type": "markdown",
   "metadata": {},
   "source": [
    "## 19. Дан файл:"
   ]
  },
  {
   "cell_type": "markdown",
   "metadata": {},
   "source": [
    "1,2,3,4,5"
   ]
  },
  {
   "cell_type": "markdown",
   "metadata": {},
   "source": [
    "6,,,7,8"
   ]
  },
  {
   "cell_type": "markdown",
   "metadata": {},
   "source": [
    ",,9,10,11"
   ]
  },
  {
   "cell_type": "markdown",
   "metadata": {},
   "source": [
    "#### Как прочитать его?"
   ]
  },
  {
   "cell_type": "code",
   "execution_count": 148,
   "metadata": {
    "scrolled": true
   },
   "outputs": [
    {
     "data": {
      "text/plain": [
       "array([[ 1.,  2.,  3.,  4.,  5.],\n",
       "       [ 6., nan, nan,  7.,  8.],\n",
       "       [nan, nan,  9., 10., 11.]])"
      ]
     },
     "execution_count": 148,
     "metadata": {},
     "output_type": "execute_result"
    }
   ],
   "source": [
    "with open('./test_file.txt', 'w') as f:\n",
    "    f.write('1,2,3,4,5\\n6,,,7,8\\n,,9,10,11')\n",
    "\n",
    "np.genfromtxt('./test_file.txt', delimiter = ',')"
   ]
  },
  {
   "cell_type": "markdown",
   "metadata": {},
   "source": [
    "## 20. Каков эквивалент функции enumerate для numpy массивов?"
   ]
  },
  {
   "cell_type": "code",
   "execution_count": 105,
   "metadata": {},
   "outputs": [
    {
     "name": "stdout",
     "output_type": "stream",
     "text": [
      "(0, 0) 5\n",
      "(0, 1) 0\n",
      "(1, 0) 7\n",
      "(1, 1) 0\n"
     ]
    }
   ],
   "source": [
    "mass = np.array([[5, 0], [7, 0]])\n",
    "for index in np.ndindex(mass.shape):\n",
    "    print(index, mass[index])"
   ]
  },
  {
   "cell_type": "markdown",
   "metadata": {},
   "source": [
    "## 21. Сформировать 2D массив с распределением Гаусса"
   ]
  },
  {
   "cell_type": "code",
   "execution_count": 108,
   "metadata": {},
   "outputs": [
    {
     "name": "stdout",
     "output_type": "stream",
     "text": [
      "[[ 9.30313842e-01  1.06743954e+00 -1.31018218e+00  3.34411727e-01\n",
      "   1.08140450e-01]\n",
      " [-1.07875088e+00  6.72476670e-01  6.03380655e-01  1.57832705e+00\n",
      "   9.73838572e-01]\n",
      " [ 8.83218821e-01 -6.01283236e-01 -9.53810075e-01  5.07657472e-02\n",
      "   1.16996428e+00]\n",
      " [-3.87938245e-01  1.39840713e+00  1.37007838e+00  3.03882249e-01\n",
      "  -7.29223294e-04]\n",
      " [ 3.13165295e-01 -2.10681914e-01  1.14868751e+00 -1.24951969e-01\n",
      "   2.91453802e-01]]\n"
     ]
    }
   ],
   "source": [
    "mass = np.random.normal(size = (5,5))\n",
    "print(mass)"
   ]
  },
  {
   "cell_type": "markdown",
   "metadata": {},
   "source": [
    "## 22. Случайно расположить p элементов в 2D массив"
   ]
  },
  {
   "cell_type": "code",
   "execution_count": 111,
   "metadata": {},
   "outputs": [
    {
     "name": "stdout",
     "output_type": "stream",
     "text": [
      "[[1. 1. 1. 0. 0.]\n",
      " [0. 0. 0. 0. 1.]\n",
      " [1. 0. 0. 0. 0.]\n",
      " [0. 1. 1. 1. 1.]\n",
      " [0. 1. 0. 1. 1.]]\n"
     ]
    }
   ],
   "source": [
    "n = 5\n",
    "p = 12\n",
    "mass = np.zeros((n,n))\n",
    "np.put(mass, np.random.choice(range(n*n), p, replace=False), 1)\n",
    "print(mass)"
   ]
  },
  {
   "cell_type": "markdown",
   "metadata": {},
   "source": [
    "## 23. Отнять среднее из каждой строки в матрице "
   ]
  },
  {
   "cell_type": "code",
   "execution_count": 120,
   "metadata": {},
   "outputs": [
    {
     "name": "stdout",
     "output_type": "stream",
     "text": [
      "[[0.32163741 0.05779863 0.84452781 0.55870429 0.75447887]\n",
      " [0.14020686 0.06886714 0.06071711 0.30030226 0.3134883 ]\n",
      " [0.25221213 0.49846799 0.47364455 0.71181609 0.37931371]\n",
      " [0.52567492 0.24253674 0.43456391 0.23488487 0.92042347]\n",
      " [0.60208434 0.64200578 0.80711066 0.84265512 0.52333129]]\n",
      "\n",
      "[[-0.18579199 -0.44963078  0.33709841  0.05127489  0.24704947]\n",
      " [-0.03650948 -0.1078492  -0.11599922  0.12358593  0.13677196]\n",
      " [-0.21087876  0.03537709  0.01055366  0.24872519 -0.08377718]\n",
      " [ 0.05405814 -0.22908004 -0.03705287 -0.23673191  0.44880669]\n",
      " [-0.0813531  -0.04143166  0.12367322  0.15921768 -0.16010615]]\n"
     ]
    }
   ],
   "source": [
    "M = np.random.rand(5, 5)\n",
    "print(M)\n",
    "print()\n",
    "M1 = M - M.mean(axis=1, keepdims=True)\n",
    "print(M1)"
   ]
  },
  {
   "cell_type": "markdown",
   "metadata": {},
   "source": [
    "## 24. Отсортировать матрицу по n-ому столбцу"
   ]
  },
  {
   "cell_type": "code",
   "execution_count": 124,
   "metadata": {},
   "outputs": [
    {
     "name": "stdout",
     "output_type": "stream",
     "text": [
      "[[2 2 4 0 2 0 2 1]\n",
      " [2 1 1 4 4 3 3 4]\n",
      " [1 0 4 3 4 2 1 1]\n",
      " [2 4 4 0 0 4 1 1]]\n",
      "\n",
      "[[2 2 4 0 2 0 2 1]\n",
      " [2 4 4 0 0 4 1 1]\n",
      " [1 0 4 3 4 2 1 1]\n",
      " [2 1 1 4 4 3 3 4]]\n"
     ]
    }
   ],
   "source": [
    "M = np.random.randint(0,5,(4,8))\n",
    "n = 3\n",
    "print(M)\n",
    "print()\n",
    "print(M[M[:,n].argsort()])"
   ]
  },
  {
   "cell_type": "markdown",
   "metadata": {},
   "source": [
    "## 25. Определить, есть ли в 2D массиве нулевые столбцы"
   ]
  },
  {
   "cell_type": "code",
   "execution_count": 127,
   "metadata": {},
   "outputs": [
    {
     "name": "stdout",
     "output_type": "stream",
     "text": [
      "False\n",
      "\n"
     ]
    }
   ],
   "source": [
    "mass = np.random.randint(0,6,(2,8))\n",
    "print((~mass.any(axis=0)).any())"
   ]
  },
  {
   "cell_type": "markdown",
   "metadata": {},
   "source": [
    "## 26. Дан массив, добавить 1 к каждому элементу с индексом, заданным в другом массиве (осторожно с повторами)"
   ]
  },
  {
   "cell_type": "code",
   "execution_count": 149,
   "metadata": {},
   "outputs": [
    {
     "name": "stdout",
     "output_type": "stream",
     "text": [
      "[4. 2. 2. 3. 9.]\n"
     ]
    }
   ],
   "source": [
    "mass = np.ones(5)\n",
    "mass1 = np.random.randint(0,len(mass),15)\n",
    "mass += np.bincount(mass1, minlength=len(mass))\n",
    "print(mass)"
   ]
  },
  {
   "cell_type": "markdown",
   "metadata": {},
   "source": [
    "## 27. Дан массив (w,h,3) (картинка) dtype=ubyte, посчитать количество различных цветов"
   ]
  },
  {
   "cell_type": "code",
   "execution_count": 153,
   "metadata": {},
   "outputs": [
    {
     "data": {
      "text/plain": [
       "8"
      ]
     },
     "execution_count": 153,
     "metadata": {},
     "output_type": "execute_result"
    }
   ],
   "source": [
    "w, h = 24, 24\n",
    "pixel_colors = np.random.randint(0, 2, (h, w, 3)).astype(np.ubyte)\n",
    "pixel_colors_as_vector = pixel_colors.reshape((h*w, 3))\n",
    "uniq_colors = np.unique(pixel_colors_as_vector, axis=0)\n",
    "len(uniq_colors)"
   ]
  },
  {
   "cell_type": "markdown",
   "metadata": {},
   "source": [
    "## 28. Дан четырехмерный массив, посчитать сумму по последним двум осям"
   ]
  },
  {
   "cell_type": "code",
   "execution_count": 141,
   "metadata": {},
   "outputs": [
    {
     "name": "stdout",
     "output_type": "stream",
     "text": [
      "[[21 21  9 17]\n",
      " [16 23 14 22]]\n"
     ]
    }
   ],
   "source": [
    "mass = np.random.randint(0,5, (2,4,2,4))\n",
    "sum = mass.reshape(mass.shape[:-2] + (-1,)).sum(axis=-1)\n",
    "print(sum)"
   ]
  },
  {
   "cell_type": "markdown",
   "metadata": {},
   "source": [
    "## 29. Найти диагональные элементы произведения матриц"
   ]
  },
  {
   "cell_type": "code",
   "execution_count": 147,
   "metadata": {},
   "outputs": [
    {
     "name": "stdout",
     "output_type": "stream",
     "text": [
      "[[5 5]\n",
      " [7 0]]\n",
      "[[5 4]\n",
      " [7 4]]\n",
      "\n",
      "[[60 40]\n",
      " [35 28]]\n",
      "\n",
      "[60 28]\n"
     ]
    }
   ],
   "source": [
    "M = np.array([[5,5], [7,0]])\n",
    "print(M)\n",
    "M1 = np.array([[5,4], [7,4]])\n",
    "print(M1)\n",
    "print()\n",
    "print(np.dot(M, M1))\n",
    "print()\n",
    "print(np.diag(np.dot(M, M1)))"
   ]
  }
 ],
 "metadata": {
  "kernelspec": {
   "display_name": "Python 3",
   "language": "python",
   "name": "python3"
  },
  "language_info": {
   "codemirror_mode": {
    "name": "ipython",
    "version": 3
   },
   "file_extension": ".py",
   "mimetype": "text/x-python",
   "name": "python",
   "nbconvert_exporter": "python",
   "pygments_lexer": "ipython3",
   "version": "3.8.3"
  }
 },
 "nbformat": 4,
 "nbformat_minor": 4
}
