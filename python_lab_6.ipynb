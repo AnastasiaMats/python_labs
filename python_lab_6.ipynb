{
 "cells": [
  {
   "cell_type": "markdown",
   "metadata": {},
   "source": [
    "# Лабораторная работа № 6"
   ]
  },
  {
   "cell_type": "markdown",
   "metadata": {},
   "source": [
    "Мацыкина А.С."
   ]
  },
  {
   "cell_type": "markdown",
   "metadata": {},
   "source": [
    "Группа: Т12О-101М-20"
   ]
  },
  {
   "cell_type": "markdown",
   "metadata": {},
   "source": [
    "Дата: 24.11.2020"
   ]
  },
  {
   "cell_type": "code",
   "execution_count": 2,
   "metadata": {},
   "outputs": [],
   "source": [
    "import sys\n",
    "import numpy as np\n",
    "import pandas as pd"
   ]
  },
  {
   "cell_type": "markdown",
   "metadata": {},
   "source": [
    "### 1. Найти евклидово расстоняие между двумя объектами серии"
   ]
  },
  {
   "cell_type": "code",
   "execution_count": 3,
   "metadata": {},
   "outputs": [
    {
     "name": "stdout",
     "output_type": "stream",
     "text": [
      "0    9\n",
      "1    9\n",
      "2    6\n",
      "3    8\n",
      "4    7\n",
      "dtype: int32\n",
      "\n",
      "0    4\n",
      "1    6\n",
      "2    1\n",
      "3    2\n",
      "4    9\n",
      "dtype: int32\n",
      "\n",
      "9.9498743710662\n",
      "\n",
      "9.9498743710662\n"
     ]
    }
   ],
   "source": [
    "s1 = pd.Series(np.random.randint(low=1, high=10, size=5))\n",
    "s2 = pd.Series(np.random.randint(low=1, high=10, size=5))\n",
    "print(s1)\n",
    "print()\n",
    "print(s2)\n",
    "print()\n",
    "ans = np.linalg.norm(s1-s2)\n",
    "print(ans)\n",
    "print()\n",
    "ans2 = sum((s1-s2)**2)**0.5\n",
    "print(ans2)"
   ]
  },
  {
   "cell_type": "markdown",
   "metadata": {},
   "source": [
    "### 2. Найти индексы локальных максимумов в объекте Series"
   ]
  },
  {
   "cell_type": "code",
   "execution_count": 4,
   "metadata": {},
   "outputs": [
    {
     "name": "stdout",
     "output_type": "stream",
     "text": [
      "0     1\n",
      "1     5\n",
      "2     7\n",
      "3    22\n",
      "4     4\n",
      "dtype: int64\n",
      "\n",
      "\n",
      "[  4   2  15 -18]\n",
      "\n",
      "[ 1  1  1 -1]\n",
      "\n",
      "[ 0  0 -2]\n",
      "\n",
      "[False False  True]\n",
      "\n",
      "\n",
      "[3]\n"
     ]
    }
   ],
   "source": [
    "s = pd.Series([1, 5, 7, 22, 4])\n",
    "print(s)\n",
    "print()\n",
    "dd = np.diff(np.sign(np.diff(s)))\n",
    "print()\n",
    "\n",
    "print(np.diff(s, n=1))\n",
    "print()\n",
    "print(np.sign(np.diff(s)))\n",
    "print()\n",
    "print(dd)\n",
    "print()\n",
    "print(dd==-2)\n",
    "print()\n",
    "print()\n",
    "\n",
    "ans = np.where(dd == -2)[0] + 1\n",
    "print(ans)"
   ]
  },
  {
   "cell_type": "markdown",
   "metadata": {},
   "source": [
    "### 3. Заменить пробелы имяее часто встречающимися символами"
   ]
  },
  {
   "cell_type": "code",
   "execution_count": 17,
   "metadata": {},
   "outputs": [
    {
     "name": "stdout",
     "output_type": "stream",
     "text": [
      "0    b\n",
      "1    r\n",
      "2    b\n",
      "3     \n",
      "4    w\n",
      "5    b\n",
      "6     \n",
      "7    t\n",
      "8    y\n",
      "dtype: object\n",
      "\n",
      "b    3\n",
      "     2\n",
      "r    1\n",
      "t    1\n",
      "y    1\n",
      "w    1\n",
      "dtype: int64\n",
      "\n",
      "w\n",
      "\n"
     ]
    },
    {
     "data": {
      "text/plain": [
       "'brbwwbwty'"
      ]
     },
     "execution_count": 17,
     "metadata": {},
     "output_type": "execute_result"
    }
   ],
   "source": [
    "str_test = 'brb wb ty'\n",
    "s = pd.Series(list(str_test))\n",
    "print(s)\n",
    "print()\n",
    "freq = s.value_counts()\n",
    "print(freq)\n",
    "print()\n",
    "least_freq = freq.dropna().index[-1]\n",
    "print(least_freq)\n",
    "print()\n",
    "''.join(s.replace(' ', least_freq))"
   ]
  },
  {
   "cell_type": "markdown",
   "metadata": {},
   "source": [
    "### 4.  Создать объект Series, который содержит в индексах даты выходных дней субботы, а в значениях случайные числа от 1 до 10"
   ]
  },
  {
   "cell_type": "code",
   "execution_count": 33,
   "metadata": {},
   "outputs": [
    {
     "name": "stdout",
     "output_type": "stream",
     "text": [
      "0    3\n",
      "1    2\n",
      "2    3\n",
      "3    9\n",
      "4    7\n",
      "5    7\n",
      "6    2\n",
      "7    4\n",
      "8    6\n",
      "9    9\n",
      "dtype: int32\n",
      "\n",
      "0   2020-01-04\n",
      "1   2020-01-11\n",
      "2   2020-01-18\n",
      "3   2020-01-25\n",
      "4   2020-02-01\n",
      "5   2020-02-08\n",
      "6   2020-02-15\n",
      "7   2020-02-22\n",
      "8   2020-02-29\n",
      "9   2020-03-07\n",
      "dtype: datetime64[ns]\n",
      "\n",
      "           0  1\n",
      "0 2020-01-04  3\n",
      "1 2020-01-11  2\n",
      "2 2020-01-18  3\n",
      "3 2020-01-25  9\n",
      "4 2020-02-01  7\n",
      "5 2020-02-08  7\n",
      "6 2020-02-15  2\n",
      "7 2020-02-22  4\n",
      "8 2020-02-29  6\n",
      "9 2020-03-07  9\n",
      "\n",
      "2018-01-06    7\n",
      "2018-01-13    8\n",
      "2018-01-20    9\n",
      "2018-01-27    4\n",
      "2018-02-03    6\n",
      "2018-02-10    6\n",
      "2018-02-17    2\n",
      "2018-02-24    7\n",
      "2018-03-03    1\n",
      "2018-03-10    5\n",
      "Freq: W-SAT, dtype: int32\n"
     ]
    }
   ],
   "source": [
    "#var 1\n",
    "a = pd.Series(np.random.randint(low=1,high=10,size=[10]))\n",
    "print(a)\n",
    "print()\n",
    "b = pd.Series(pd.date_range('2020-01-01', periods=10, freq='W-SAT'))\n",
    "print(b)\n",
    "print()\n",
    "s1 = pd.concat([b, a], axis = 1)\n",
    "print(s1)\n",
    "print()\n",
    "#var 2\n",
    "s = pd.Series(np.random.randint(low=1,high=10,size=[10]), pd.date_range('2018-01-01', periods=10, freq='W-SAT'))\n",
    "print(s)"
   ]
  },
  {
   "cell_type": "markdown",
   "metadata": {},
   "source": [
    "### 5. Заполнить пропущенные даты, выше (заполненной даты)"
   ]
  },
  {
   "cell_type": "code",
   "execution_count": 43,
   "metadata": {},
   "outputs": [
    {
     "name": "stdout",
     "output_type": "stream",
     "text": [
      "2020-01-01    2.0\n",
      "2020-01-03    5.0\n",
      "2020-01-06    8.0\n",
      "2020-01-08    NaN\n",
      "dtype: float64\n",
      "\n",
      "2020-01-01    2.0\n",
      "2020-01-02    2.0\n",
      "2020-01-03    5.0\n",
      "2020-01-04    5.0\n",
      "2020-01-05    5.0\n",
      "2020-01-06    8.0\n",
      "2020-01-07    8.0\n",
      "2020-01-08    NaN\n",
      "Freq: D, dtype: float64\n",
      "\n",
      "2020-01-01    2.0\n",
      "2020-01-02    5.0\n",
      "2020-01-03    5.0\n",
      "2020-01-04    8.0\n",
      "2020-01-05    8.0\n",
      "2020-01-06    8.0\n",
      "2020-01-07    NaN\n",
      "2020-01-08    NaN\n",
      "Freq: D, dtype: float64\n",
      "\n"
     ]
    }
   ],
   "source": [
    "s = pd.Series([2, 5, 8, np.nan], pd.to_datetime(['2020-01-01', '2020-01-03', '2020-01-06', '2020-01-08']))\n",
    "print(s)\n",
    "print()\n",
    "ans = s.resample('D').ffill()\n",
    "print(ans)\n",
    "print()\n",
    "ans1 = s.resample('D').bfill()\n",
    "print(ans2)\n",
    "print()"
   ]
  },
  {
   "cell_type": "markdown",
   "metadata": {},
   "source": [
    "### 6. Вычислить автокорреляцию объекта Серия"
   ]
  },
  {
   "cell_type": "code",
   "execution_count": 50,
   "metadata": {},
   "outputs": [
    {
     "name": "stdout",
     "output_type": "stream",
     "text": [
      "0    0\n",
      "1    1\n",
      "2    2\n",
      "3    3\n",
      "4    4\n",
      "dtype: int32\n",
      "\n",
      "[ 1.31558688 -3.23079673 -0.24338835  1.84681052 -2.70893246]\n",
      "\n",
      "0    1.315587\n",
      "1   -2.230797\n",
      "2    1.756612\n",
      "3    4.846811\n",
      "4    1.291068\n",
      "dtype: float64\n",
      "\n",
      "[1.0, -0.01, -1.0, 1.0, nan]\n"
     ]
    }
   ],
   "source": [
    "n = 5\n",
    "s = pd.Series(np.arange(n))\n",
    "print(s)\n",
    "print()\n",
    "a = np.random.normal(1, 3, n)\n",
    "print(a)\n",
    "print()\n",
    "s = s + a\n",
    "print(s)\n",
    "print()\n",
    "autocorr = [s.autocorr(lag=i).round(2) for i in range(n)]\n",
    " \n",
    "print(autocorr)"
   ]
  },
  {
   "cell_type": "code",
   "execution_count": null,
   "metadata": {},
   "outputs": [],
   "source": []
  }
 ],
 "metadata": {
  "kernelspec": {
   "display_name": "Python 3",
   "language": "python",
   "name": "python3"
  },
  "language_info": {
   "codemirror_mode": {
    "name": "ipython",
    "version": 3
   },
   "file_extension": ".py",
   "mimetype": "text/x-python",
   "name": "python",
   "nbconvert_exporter": "python",
   "pygments_lexer": "ipython3",
   "version": "3.8.3"
  }
 },
 "nbformat": 4,
 "nbformat_minor": 4
}
