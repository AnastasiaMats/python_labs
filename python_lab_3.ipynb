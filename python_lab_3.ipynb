{
 "cells": [
  {
   "cell_type": "markdown",
   "metadata": {},
   "source": [
    "# Лабораторная работа № 2"
   ]
  },
  {
   "cell_type": "markdown",
   "metadata": {},
   "source": [
    "Мацыкина А.С."
   ]
  },
  {
   "cell_type": "markdown",
   "metadata": {},
   "source": [
    "Группа: Т12О-101М-20"
   ]
  },
  {
   "cell_type": "markdown",
   "metadata": {},
   "source": [
    "Дата: 30.10.2020"
   ]
  },
  {
   "cell_type": "code",
   "execution_count": 4,
   "metadata": {},
   "outputs": [],
   "source": [
    "import numpy as np"
   ]
  },
  {
   "cell_type": "markdown",
   "metadata": {},
   "source": [
    "## 1. Дан вектор [1, 2, 3, 4, 5], построить новый вектор с тремя нулями между каждым значением"
   ]
  },
  {
   "cell_type": "code",
   "execution_count": 6,
   "metadata": {},
   "outputs": [
    {
     "name": "stdout",
     "output_type": "stream",
     "text": [
      "[1. 0. 0. 0. 2. 0. 0. 0. 3. 0. 0. 0. 4. 0. 0. 0. 5.]\n"
     ]
    }
   ],
   "source": [
    "Vec = np.array([1,2,3,4,5])\n",
    "n = 3\n",
    "Vec1 = np.zeros(len(Vec) + (len(Vec)-1)*(n))\n",
    "Vec1[::n + 1] = Vec\n",
    "print(Vec1)"
   ]
  },
  {
   "cell_type": "markdown",
   "metadata": {},
   "source": [
    "## 2. Поменять 2 строки в матрице"
   ]
  },
  {
   "cell_type": "code",
   "execution_count": 15,
   "metadata": {},
   "outputs": [
    {
     "name": "stdout",
     "output_type": "stream",
     "text": [
      "[[0 1 2]\n",
      " [3 4 5]\n",
      " [6 7 8]]\n",
      "\n",
      "[[3 4 5]\n",
      " [0 1 2]\n",
      " [6 7 8]]\n"
     ]
    }
   ],
   "source": [
    "M = np.arange(9).reshape(3,3)\n",
    "print(M)\n",
    "print()\n",
    "M[[0,1]] = M[[1,0]]\n",
    "print(M)"
   ]
  },
  {
   "cell_type": "markdown",
   "metadata": {},
   "source": [
    "## 3. Рассмотрим набор из 10 троек, описывающих 10 треугольников (с общими вершинами), найти множество уникальных отрезков, составляющих все треугольники"
   ]
  },
  {
   "cell_type": "code",
   "execution_count": 16,
   "metadata": {},
   "outputs": [
    {
     "name": "stdout",
     "output_type": "stream",
     "text": [
      "[( 0, 17) ( 0, 89) ( 5, 36) ( 5, 40) ( 7, 42) ( 7, 84) ( 9, 58) ( 9, 72)\n",
      " (11, 19) (11, 40) (15, 24) (15, 39) (17, 51) (17, 65) (17, 89) (19, 40)\n",
      " (24, 39) (29, 40) (29, 95) (36, 40) (40, 95) (42, 84) (45, 83) (45, 98)\n",
      " (46, 47) (46, 67) (47, 67) (51, 65) (58, 72) (83, 98)]\n"
     ]
    }
   ],
   "source": [
    "faces = np.random.randint(0,100,(10,3))\n",
    "F = np.roll(faces.repeat(2,axis=1),-1,axis=1)\n",
    "F = F.reshape(len(F)*3,2)\n",
    "F = np.sort(F,axis=1)\n",
    "G = F.view( dtype=[('p0',F.dtype),('p1',F.dtype)] )\n",
    "G = np.unique(G)\n",
    "print(G)"
   ]
  },
  {
   "cell_type": "markdown",
   "metadata": {},
   "source": [
    "## 4. Дан массив C; создать массив A, что np.bincount(A) == C"
   ]
  },
  {
   "cell_type": "code",
   "execution_count": 17,
   "metadata": {},
   "outputs": [
    {
     "name": "stdout",
     "output_type": "stream",
     "text": [
      "[1 1 2 3 4 4 6]\n"
     ]
    }
   ],
   "source": [
    "C = np.bincount([1,1,2,3,4,4,6])\n",
    "A = np.repeat(np.arange(len(C)), C)\n",
    "print(A)"
   ]
  },
  {
   "cell_type": "markdown",
   "metadata": {},
   "source": [
    "## 5. Посчитать среднее, используя плавающее окно"
   ]
  },
  {
   "cell_type": "code",
   "execution_count": 18,
   "metadata": {},
   "outputs": [
    {
     "name": "stdout",
     "output_type": "stream",
     "text": [
      "[ 1.  2.  3.  4.  5.  6.  7.  8.  9. 10. 11. 12. 13. 14. 15. 16. 17. 18.]\n"
     ]
    }
   ],
   "source": [
    "def moving_average(a, n=3):\n",
    "    ret = np.cumsum(a, dtype=float)\n",
    "    ret[n:] = ret[n:] - ret[:-n]\n",
    "    return ret[n - 1:] / n\n",
    "\n",
    "print(moving_average(np.arange(20), 3))"
   ]
  },
  {
   "cell_type": "markdown",
   "metadata": {},
   "source": [
    "## 6. Дан вектор Z, построить матрицу, первая строка которой (Z[0],Z[1],Z[2]), каждая последующая сдвинута на 1 (последняя (Z[-3],Z[-2],Z[-1]))"
   ]
  },
  {
   "cell_type": "code",
   "execution_count": 19,
   "metadata": {},
   "outputs": [
    {
     "name": "stdout",
     "output_type": "stream",
     "text": [
      "[[0 1 2]\n",
      " [1 2 3]\n",
      " [2 3 4]\n",
      " [3 4 5]\n",
      " [4 5 6]\n",
      " [5 6 7]\n",
      " [6 7 8]\n",
      " [7 8 9]]\n"
     ]
    }
   ],
   "source": [
    "from numpy.lib import stride_tricks\n",
    "\n",
    "def rolling(a, window):\n",
    "    shape = (a.size - window + 1, window)\n",
    "    strides = (a.itemsize, a.itemsize)\n",
    "    return stride_tricks.as_strided(a, shape=shape, strides=strides)\n",
    "Z = rolling(np.arange(10), 3)\n",
    "print(Z)"
   ]
  },
  {
   "cell_type": "markdown",
   "metadata": {},
   "source": [
    "## 7. Инвертировать булево значение, или поменять знак у числового массива без создания нового"
   ]
  },
  {
   "cell_type": "code",
   "execution_count": 29,
   "metadata": {},
   "outputs": [
    {
     "name": "stdout",
     "output_type": "stream",
     "text": [
      "[0 0 1 1 0 0 1 1 0 0 1 0 1 1 1 1 0 0 1 1 1 1 1 0 0 1 1 0 0 1 0 0 0 0 0 0 0\n",
      " 1 1 1 0 1 1 0 1 0 1 0 0 1 1 0 0 0 1 0 1 0 1 0 0 1 1 0 0 1 1 1 0 0 1 0 1 1\n",
      " 0 1 1 1 0 0 1 1 0 0 0 0 1 0 1 0 0 1 1 1 1 1 0 1 0 0]\n",
      "\n"
     ]
    },
    {
     "data": {
      "text/plain": [
       "array([1, 1, 0, 0, 1, 1, 0, 0, 1, 1, 0, 1, 0, 0, 0, 0, 1, 1, 0, 0, 0, 0,\n",
       "       0, 1, 1, 0, 0, 1, 1, 0, 1, 1, 1, 1, 1, 1, 1, 0, 0, 0, 1, 0, 0, 1,\n",
       "       0, 1, 0, 1, 1, 0, 0, 1, 1, 1, 0, 1, 0, 1, 0, 1, 1, 0, 0, 1, 1, 0,\n",
       "       0, 0, 1, 1, 0, 1, 0, 0, 1, 0, 0, 0, 1, 1, 0, 0, 1, 1, 1, 1, 0, 1,\n",
       "       0, 1, 1, 0, 0, 0, 0, 0, 1, 0, 1, 1])"
      ]
     },
     "execution_count": 29,
     "metadata": {},
     "output_type": "execute_result"
    }
   ],
   "source": [
    "Z = np.random.randint(0,2,100)\n",
    "print(Z)\n",
    "print()\n",
    "np.logical_not(Z, out = Z)"
   ]
  },
  {
   "cell_type": "code",
   "execution_count": 30,
   "metadata": {},
   "outputs": [
    {
     "name": "stdout",
     "output_type": "stream",
     "text": [
      "[ 1.13470301e-01 -2.04501739e-01  9.15723190e-01  7.22813856e-01\n",
      "  8.06076358e-01  8.08277033e-02  7.61325688e-01  8.33455332e-01\n",
      "  6.62185146e-01 -3.05006903e-01 -9.95459095e-01  8.01215724e-01\n",
      "  5.15634428e-03  7.37301548e-01 -1.91900188e-03 -2.40290949e-01\n",
      " -9.79518649e-01 -8.22536908e-01 -1.75617208e-01  3.53753811e-01\n",
      " -8.22046308e-01 -6.72526783e-01 -5.03029608e-01  4.55814062e-01\n",
      "  6.28807447e-01 -1.45378086e-01  4.46842569e-01  3.35367659e-01\n",
      "  7.60116573e-01  2.20854114e-01  3.89085162e-01  2.72841288e-01\n",
      " -2.56361998e-01  1.01107233e-01 -6.15812824e-01 -8.72425165e-01\n",
      "  4.86000228e-01 -9.57309238e-01  9.56955495e-01  9.82158620e-01\n",
      " -4.87954661e-01  4.77984810e-01 -2.19495469e-01 -8.47156327e-01\n",
      " -1.39042740e-01  4.73534148e-01  2.39578797e-02  3.41418580e-01\n",
      "  7.09795305e-01 -1.08891372e-01 -9.70064100e-01 -1.99297598e-01\n",
      " -5.88547219e-01  3.63361554e-01 -6.27803062e-01 -1.16156537e-01\n",
      "  3.31176788e-01  9.05672549e-01 -2.11193468e-02  5.52891288e-01\n",
      " -5.76941923e-01  5.01745622e-01 -7.86574538e-01 -4.60199635e-01\n",
      "  9.26242636e-01 -6.39821731e-01 -9.51133811e-01  6.21592908e-01\n",
      " -9.65918853e-01 -3.44437924e-01  3.21924459e-01  4.35819543e-01\n",
      "  4.59461751e-01  6.70586753e-01 -8.83223811e-01 -4.61289355e-01\n",
      "  6.34915595e-01 -6.28023771e-02  4.08649248e-01  9.18366457e-02\n",
      " -5.67636801e-01 -1.04981513e-01  3.50444479e-04  8.73107924e-01\n",
      "  5.61058408e-01  1.31591516e-01 -9.49318802e-01  4.36542110e-01\n",
      " -6.92431626e-01  3.15721814e-01  4.20688559e-02  7.03472532e-01\n",
      " -8.84696779e-02  9.16780533e-01  5.20103561e-01  7.22865168e-01\n",
      " -6.94633906e-01 -8.90754512e-01 -8.57651959e-01  9.48598648e-01]\n",
      "\n"
     ]
    },
    {
     "data": {
      "text/plain": [
       "array([-1.13470301e-01,  2.04501739e-01, -9.15723190e-01, -7.22813856e-01,\n",
       "       -8.06076358e-01, -8.08277033e-02, -7.61325688e-01, -8.33455332e-01,\n",
       "       -6.62185146e-01,  3.05006903e-01,  9.95459095e-01, -8.01215724e-01,\n",
       "       -5.15634428e-03, -7.37301548e-01,  1.91900188e-03,  2.40290949e-01,\n",
       "        9.79518649e-01,  8.22536908e-01,  1.75617208e-01, -3.53753811e-01,\n",
       "        8.22046308e-01,  6.72526783e-01,  5.03029608e-01, -4.55814062e-01,\n",
       "       -6.28807447e-01,  1.45378086e-01, -4.46842569e-01, -3.35367659e-01,\n",
       "       -7.60116573e-01, -2.20854114e-01, -3.89085162e-01, -2.72841288e-01,\n",
       "        2.56361998e-01, -1.01107233e-01,  6.15812824e-01,  8.72425165e-01,\n",
       "       -4.86000228e-01,  9.57309238e-01, -9.56955495e-01, -9.82158620e-01,\n",
       "        4.87954661e-01, -4.77984810e-01,  2.19495469e-01,  8.47156327e-01,\n",
       "        1.39042740e-01, -4.73534148e-01, -2.39578797e-02, -3.41418580e-01,\n",
       "       -7.09795305e-01,  1.08891372e-01,  9.70064100e-01,  1.99297598e-01,\n",
       "        5.88547219e-01, -3.63361554e-01,  6.27803062e-01,  1.16156537e-01,\n",
       "       -3.31176788e-01, -9.05672549e-01,  2.11193468e-02, -5.52891288e-01,\n",
       "        5.76941923e-01, -5.01745622e-01,  7.86574538e-01,  4.60199635e-01,\n",
       "       -9.26242636e-01,  6.39821731e-01,  9.51133811e-01, -6.21592908e-01,\n",
       "        9.65918853e-01,  3.44437924e-01, -3.21924459e-01, -4.35819543e-01,\n",
       "       -4.59461751e-01, -6.70586753e-01,  8.83223811e-01,  4.61289355e-01,\n",
       "       -6.34915595e-01,  6.28023771e-02, -4.08649248e-01, -9.18366457e-02,\n",
       "        5.67636801e-01,  1.04981513e-01, -3.50444479e-04, -8.73107924e-01,\n",
       "       -5.61058408e-01, -1.31591516e-01,  9.49318802e-01, -4.36542110e-01,\n",
       "        6.92431626e-01, -3.15721814e-01, -4.20688559e-02, -7.03472532e-01,\n",
       "        8.84696779e-02, -9.16780533e-01, -5.20103561e-01, -7.22865168e-01,\n",
       "        6.94633906e-01,  8.90754512e-01,  8.57651959e-01, -9.48598648e-01])"
      ]
     },
     "execution_count": 30,
     "metadata": {},
     "output_type": "execute_result"
    }
   ],
   "source": [
    "Z = np.random.uniform(-1.0,1.0,100)\n",
    "print(Z)\n",
    "print()\n",
    "np.negative(Z, out=Z)"
   ]
  },
  {
   "cell_type": "markdown",
   "metadata": {},
   "source": [
    "## 8. Посчитать ранг матрицы"
   ]
  },
  {
   "cell_type": "code",
   "execution_count": 52,
   "metadata": {},
   "outputs": [
    {
     "name": "stdout",
     "output_type": "stream",
     "text": [
      "[[0 0 0 0 0]\n",
      " [0 0 0 0 0]\n",
      " [0 0 0 0 0]\n",
      " [0 0 0 0 0]\n",
      " [0 0 0 0 0]]\n",
      "0\n"
     ]
    }
   ],
   "source": [
    "M = np.random.randint(0,1,(5,5))\n",
    "print(M)\n",
    "rang = np.linalg.matrix_rank(M)\n",
    "print(rang)"
   ]
  },
  {
   "cell_type": "markdown",
   "metadata": {},
   "source": [
    "## 9. Найти наиболее частое значение в массиве"
   ]
  },
  {
   "cell_type": "code",
   "execution_count": 53,
   "metadata": {},
   "outputs": [
    {
     "name": "stdout",
     "output_type": "stream",
     "text": [
      "4\n"
     ]
    }
   ],
   "source": [
    "mass = np.random.randint(0,5,20)\n",
    "print(np.bincount(mass).argmax())"
   ]
  },
  {
   "cell_type": "markdown",
   "metadata": {},
   "source": [
    "## 10. Извлечь все смежные 3x3 блоки из 10x10 матрицы"
   ]
  },
  {
   "cell_type": "code",
   "execution_count": 54,
   "metadata": {},
   "outputs": [
    {
     "name": "stdout",
     "output_type": "stream",
     "text": [
      "[[[[3 3 2]\n",
      "   [3 0 0]\n",
      "   [2 2 3]]\n",
      "\n",
      "  [[3 2 2]\n",
      "   [0 0 0]\n",
      "   [2 3 4]]\n",
      "\n",
      "  [[2 2 4]\n",
      "   [0 0 1]\n",
      "   [3 4 0]]\n",
      "\n",
      "  [[2 4 3]\n",
      "   [0 1 2]\n",
      "   [4 0 3]]\n",
      "\n",
      "  [[4 3 0]\n",
      "   [1 2 1]\n",
      "   [0 3 3]]\n",
      "\n",
      "  [[3 0 2]\n",
      "   [2 1 3]\n",
      "   [3 3 3]]\n",
      "\n",
      "  [[0 2 0]\n",
      "   [1 3 4]\n",
      "   [3 3 4]]\n",
      "\n",
      "  [[2 0 3]\n",
      "   [3 4 3]\n",
      "   [3 4 3]]]\n",
      "\n",
      "\n",
      " [[[3 0 0]\n",
      "   [2 2 3]\n",
      "   [1 0 2]]\n",
      "\n",
      "  [[0 0 0]\n",
      "   [2 3 4]\n",
      "   [0 2 2]]\n",
      "\n",
      "  [[0 0 1]\n",
      "   [3 4 0]\n",
      "   [2 2 1]]\n",
      "\n",
      "  [[0 1 2]\n",
      "   [4 0 3]\n",
      "   [2 1 1]]\n",
      "\n",
      "  [[1 2 1]\n",
      "   [0 3 3]\n",
      "   [1 1 2]]\n",
      "\n",
      "  [[2 1 3]\n",
      "   [3 3 3]\n",
      "   [1 2 4]]\n",
      "\n",
      "  [[1 3 4]\n",
      "   [3 3 4]\n",
      "   [2 4 3]]\n",
      "\n",
      "  [[3 4 3]\n",
      "   [3 4 3]\n",
      "   [4 3 2]]]\n",
      "\n",
      "\n",
      " [[[2 2 3]\n",
      "   [1 0 2]\n",
      "   [4 4 3]]\n",
      "\n",
      "  [[2 3 4]\n",
      "   [0 2 2]\n",
      "   [4 3 0]]\n",
      "\n",
      "  [[3 4 0]\n",
      "   [2 2 1]\n",
      "   [3 0 1]]\n",
      "\n",
      "  [[4 0 3]\n",
      "   [2 1 1]\n",
      "   [0 1 1]]\n",
      "\n",
      "  [[0 3 3]\n",
      "   [1 1 2]\n",
      "   [1 1 0]]\n",
      "\n",
      "  [[3 3 3]\n",
      "   [1 2 4]\n",
      "   [1 0 3]]\n",
      "\n",
      "  [[3 3 4]\n",
      "   [2 4 3]\n",
      "   [0 3 0]]\n",
      "\n",
      "  [[3 4 3]\n",
      "   [4 3 2]\n",
      "   [3 0 2]]]\n",
      "\n",
      "\n",
      " [[[1 0 2]\n",
      "   [4 4 3]\n",
      "   [1 1 1]]\n",
      "\n",
      "  [[0 2 2]\n",
      "   [4 3 0]\n",
      "   [1 1 4]]\n",
      "\n",
      "  [[2 2 1]\n",
      "   [3 0 1]\n",
      "   [1 4 3]]\n",
      "\n",
      "  [[2 1 1]\n",
      "   [0 1 1]\n",
      "   [4 3 4]]\n",
      "\n",
      "  [[1 1 2]\n",
      "   [1 1 0]\n",
      "   [3 4 1]]\n",
      "\n",
      "  [[1 2 4]\n",
      "   [1 0 3]\n",
      "   [4 1 3]]\n",
      "\n",
      "  [[2 4 3]\n",
      "   [0 3 0]\n",
      "   [1 3 0]]\n",
      "\n",
      "  [[4 3 2]\n",
      "   [3 0 2]\n",
      "   [3 0 0]]]\n",
      "\n",
      "\n",
      " [[[4 4 3]\n",
      "   [1 1 1]\n",
      "   [2 4 4]]\n",
      "\n",
      "  [[4 3 0]\n",
      "   [1 1 4]\n",
      "   [4 4 0]]\n",
      "\n",
      "  [[3 0 1]\n",
      "   [1 4 3]\n",
      "   [4 0 4]]\n",
      "\n",
      "  [[0 1 1]\n",
      "   [4 3 4]\n",
      "   [0 4 0]]\n",
      "\n",
      "  [[1 1 0]\n",
      "   [3 4 1]\n",
      "   [4 0 0]]\n",
      "\n",
      "  [[1 0 3]\n",
      "   [4 1 3]\n",
      "   [0 0 2]]\n",
      "\n",
      "  [[0 3 0]\n",
      "   [1 3 0]\n",
      "   [0 2 1]]\n",
      "\n",
      "  [[3 0 2]\n",
      "   [3 0 0]\n",
      "   [2 1 3]]]\n",
      "\n",
      "\n",
      " [[[1 1 1]\n",
      "   [2 4 4]\n",
      "   [3 4 2]]\n",
      "\n",
      "  [[1 1 4]\n",
      "   [4 4 0]\n",
      "   [4 2 3]]\n",
      "\n",
      "  [[1 4 3]\n",
      "   [4 0 4]\n",
      "   [2 3 3]]\n",
      "\n",
      "  [[4 3 4]\n",
      "   [0 4 0]\n",
      "   [3 3 2]]\n",
      "\n",
      "  [[3 4 1]\n",
      "   [4 0 0]\n",
      "   [3 2 1]]\n",
      "\n",
      "  [[4 1 3]\n",
      "   [0 0 2]\n",
      "   [2 1 2]]\n",
      "\n",
      "  [[1 3 0]\n",
      "   [0 2 1]\n",
      "   [1 2 1]]\n",
      "\n",
      "  [[3 0 0]\n",
      "   [2 1 3]\n",
      "   [2 1 3]]]\n",
      "\n",
      "\n",
      " [[[2 4 4]\n",
      "   [3 4 2]\n",
      "   [2 0 4]]\n",
      "\n",
      "  [[4 4 0]\n",
      "   [4 2 3]\n",
      "   [0 4 3]]\n",
      "\n",
      "  [[4 0 4]\n",
      "   [2 3 3]\n",
      "   [4 3 1]]\n",
      "\n",
      "  [[0 4 0]\n",
      "   [3 3 2]\n",
      "   [3 1 1]]\n",
      "\n",
      "  [[4 0 0]\n",
      "   [3 2 1]\n",
      "   [1 1 2]]\n",
      "\n",
      "  [[0 0 2]\n",
      "   [2 1 2]\n",
      "   [1 2 2]]\n",
      "\n",
      "  [[0 2 1]\n",
      "   [1 2 1]\n",
      "   [2 2 4]]\n",
      "\n",
      "  [[2 1 3]\n",
      "   [2 1 3]\n",
      "   [2 4 0]]]\n",
      "\n",
      "\n",
      " [[[3 4 2]\n",
      "   [2 0 4]\n",
      "   [0 4 2]]\n",
      "\n",
      "  [[4 2 3]\n",
      "   [0 4 3]\n",
      "   [4 2 4]]\n",
      "\n",
      "  [[2 3 3]\n",
      "   [4 3 1]\n",
      "   [2 4 4]]\n",
      "\n",
      "  [[3 3 2]\n",
      "   [3 1 1]\n",
      "   [4 4 1]]\n",
      "\n",
      "  [[3 2 1]\n",
      "   [1 1 2]\n",
      "   [4 1 2]]\n",
      "\n",
      "  [[2 1 2]\n",
      "   [1 2 2]\n",
      "   [1 2 2]]\n",
      "\n",
      "  [[1 2 1]\n",
      "   [2 2 4]\n",
      "   [2 2 0]]\n",
      "\n",
      "  [[2 1 3]\n",
      "   [2 4 0]\n",
      "   [2 0 2]]]]\n"
     ]
    }
   ],
   "source": [
    "M = np.random.randint(0,5,(10,10))\n",
    "n = 3\n",
    "i = 1 + (M.shape[0] - n)\n",
    "j = 1 + (M.shape[1] - n)\n",
    "C = stride_tricks.as_strided(M, shape=(i, j, n, n), strides=M.strides + M.strides)\n",
    "print(C)"
   ]
  },
  {
   "cell_type": "markdown",
   "metadata": {},
   "source": [
    "## 11. Рассмотрим множество матриц (n,n) и множество из p векторов (n,1). Посчитать сумму p произведений матриц (результат имеет размерность (n,1))"
   ]
  },
  {
   "cell_type": "code",
   "execution_count": 55,
   "metadata": {},
   "outputs": [
    {
     "name": "stdout",
     "output_type": "stream",
     "text": [
      "[[50.]\n",
      " [50.]\n",
      " [50.]\n",
      " [50.]\n",
      " [50.]\n",
      " [50.]\n",
      " [50.]\n",
      " [50.]\n",
      " [50.]\n",
      " [50.]]\n"
     ]
    }
   ],
   "source": [
    "p, n = 5, 10\n",
    "M = np.ones((p,n,n))\n",
    "V = np.ones((p,n,1))\n",
    "S = np.tensordot(M, V, axes=[[0, 2], [0, 1]])\n",
    "print(S)"
   ]
  },
  {
   "cell_type": "markdown",
   "metadata": {},
   "source": [
    "## 12. Дан массив 16x16, посчитать сумму по блокам 4x4"
   ]
  },
  {
   "cell_type": "code",
   "execution_count": 59,
   "metadata": {},
   "outputs": [
    {
     "name": "stdout",
     "output_type": "stream",
     "text": [
      "[[16. 16. 16. 16.]\n",
      " [16. 16. 16. 16.]\n",
      " [16. 16. 16. 16.]\n",
      " [16. 16. 16. 16.]]\n"
     ]
    }
   ],
   "source": [
    "mass = np.ones((16,16))\n",
    "n = 4\n",
    "Summ = np.add.reduceat(np.add.reduceat(mass, np.arange(0, mass.shape[0], n), axis=0),\n",
    "                                       np.arange(0, mass.shape[1], n), axis=1)\n",
    "print(Summ)"
   ]
  },
  {
   "cell_type": "markdown",
   "metadata": {},
   "source": [
    "## 13. Найти n наибольших значений в массиве"
   ]
  },
  {
   "cell_type": "code",
   "execution_count": 64,
   "metadata": {},
   "outputs": [
    {
     "name": "stdout",
     "output_type": "stream",
     "text": [
      "[[2 2 2 9 5]\n",
      " [8 1 9 4 8]\n",
      " [9 2 5 7 9]\n",
      " [4 6 2 7 7]\n",
      " [1 1 2 5 6]]\n",
      "\n",
      "[9 8 7 6 5]\n"
     ]
    }
   ],
   "source": [
    "n = 5\n",
    "mass = np.random.randint(low=1, high=10, size=[5,5])\n",
    "print(mass)\n",
    "print()\n",
    "print(np.unique((np.sort(mass.flat)))[::-1][:n])"
   ]
  },
  {
   "cell_type": "markdown",
   "metadata": {},
   "source": [
    "## 14. Построить прямое произведение массивов (все комбинации с каждым элементом)"
   ]
  },
  {
   "cell_type": "code",
   "execution_count": 66,
   "metadata": {},
   "outputs": [
    {
     "name": "stdout",
     "output_type": "stream",
     "text": [
      "[[1 4 7]\n",
      " [1 4 8]\n",
      " [1 4 9]\n",
      " [1 5 7]\n",
      " [1 5 8]\n",
      " [1 5 9]\n",
      " [1 6 7]\n",
      " [1 6 8]\n",
      " [1 6 9]\n",
      " [2 4 7]\n",
      " [2 4 8]\n",
      " [2 4 9]\n",
      " [2 5 7]\n",
      " [2 5 8]\n",
      " [2 5 9]\n",
      " [2 6 7]\n",
      " [2 6 8]\n",
      " [2 6 9]\n",
      " [3 4 7]\n",
      " [3 4 8]\n",
      " [3 4 9]\n",
      " [3 5 7]\n",
      " [3 5 8]\n",
      " [3 5 9]\n",
      " [3 6 7]\n",
      " [3 6 8]\n",
      " [3 6 9]]\n"
     ]
    }
   ],
   "source": [
    "def cartesian(arrays):\n",
    "    arrays = [np.asarray(a) for a in arrays]\n",
    "    shape = map(len, arrays)\n",
    "\n",
    "    ix = np.indices(shape, dtype=int)\n",
    "    ix = ix.reshape(len(arrays), -1).T\n",
    "\n",
    "    for n, arr in enumerate(arrays):\n",
    "        ix[:, n] = arrays[n][ix[:, n]]\n",
    "\n",
    "    return ix\n",
    "\n",
    "print(cartesian(([1, 2, 3], [4, 5, 6], [7, 8, 9])))"
   ]
  },
  {
   "cell_type": "markdown",
   "metadata": {},
   "source": [
    "## 15. Даны 2 массива A (8x3) и B (2x2). Найти строки в A, которые содержат элементы из каждой строки в B, независимо от порядка элементов в B"
   ]
  },
  {
   "cell_type": "code",
   "execution_count": 67,
   "metadata": {},
   "outputs": [
    {
     "name": "stdout",
     "output_type": "stream",
     "text": [
      "[0 3 5 6]\n"
     ]
    }
   ],
   "source": [
    "A = np.random.randint(0,5,(8,3))\n",
    "B = np.random.randint(0,5,(2,2))\n",
    "\n",
    "C = (A[..., np.newaxis, np.newaxis] == B)\n",
    "rows = (C.sum(axis=(1,2,3)) >= B.shape[1]).nonzero()[0]\n",
    "print(rows)"
   ]
  },
  {
   "cell_type": "markdown",
   "metadata": {},
   "source": [
    "## 16. Дана 10x3 матрица, найти строки из неравных значений (например [2,2,3])"
   ]
  },
  {
   "cell_type": "code",
   "execution_count": 69,
   "metadata": {},
   "outputs": [
    {
     "name": "stdout",
     "output_type": "stream",
     "text": [
      "[[1 4 0]\n",
      " [1 4 0]\n",
      " [2 4 2]\n",
      " [0 0 2]\n",
      " [4 3 2]\n",
      " [2 4 0]\n",
      " [1 0 2]\n",
      " [4 3 0]\n",
      " [0 3 2]\n",
      " [3 3 0]]\n",
      "\n",
      "[[1 4 0]\n",
      " [1 4 0]\n",
      " [2 4 2]\n",
      " [0 0 2]\n",
      " [4 3 2]\n",
      " [2 4 0]\n",
      " [1 0 2]\n",
      " [4 3 0]\n",
      " [0 3 2]\n",
      " [3 3 0]]\n"
     ]
    }
   ],
   "source": [
    "M = np.random.randint(0,5,(10,3))\n",
    "a = np.logical_and.reduce(M[:,1:] == M[:,:-1], axis=1)\n",
    "b = M[~a]\n",
    "print(M)\n",
    "print()\n",
    "print(b)"
   ]
  },
  {
   "cell_type": "markdown",
   "metadata": {},
   "source": [
    "## 17. Преобразовать вектор чисел в матрицу бинарных представлений"
   ]
  },
  {
   "cell_type": "code",
   "execution_count": 70,
   "metadata": {},
   "outputs": [
    {
     "name": "stdout",
     "output_type": "stream",
     "text": [
      "[[0 0 0 0 0 0 0 0]\n",
      " [0 0 0 0 0 0 0 1]\n",
      " [0 0 0 0 0 0 1 0]\n",
      " [0 0 0 0 0 0 1 1]\n",
      " [0 0 0 0 0 1 0 0]\n",
      " [0 0 0 0 0 1 0 1]\n",
      " [0 0 1 1 0 0 1 0]\n",
      " [0 1 0 1 0 1 1 1]\n",
      " [1 0 1 0 1 0 1 0]]\n"
     ]
    }
   ],
   "source": [
    "Vec = np.array([0, 1, 2, 3, 4, 5, 50, 87, 170], dtype=np.uint8)\n",
    "print(np.unpackbits(Vec[:, np.newaxis], axis=1))"
   ]
  },
  {
   "cell_type": "markdown",
   "metadata": {},
   "source": [
    "## 18. Дан двумерный массив. Найти все различные строки"
   ]
  },
  {
   "cell_type": "code",
   "execution_count": 73,
   "metadata": {},
   "outputs": [
    {
     "name": "stdout",
     "output_type": "stream",
     "text": [
      "[[0 0 0 1 1 1 1 0 0 0]\n",
      " [0 0 1 1 1 1 1 1 0 1]\n",
      " [0 1 0 0 0 1 0 0 0 0]\n",
      " [0 1 0 1 1 0 1 1 1 0]\n",
      " [1 0 0 1 1 0 1 1 1 0]\n",
      " [1 0 1 1 0 0 0 1 1 0]\n",
      " [1 1 0 0 1 1 1 0 0 1]\n",
      " [1 1 0 1 0 1 0 0 1 0]\n",
      " [1 1 0 1 1 0 1 1 1 1]\n",
      " [1 1 1 0 0 1 1 1 0 0]]\n"
     ]
    }
   ],
   "source": [
    "mass = np.random.randint(0, 2, (10,10))\n",
    "T = np.ascontiguousarray(mass).view(np.dtype((np.void, mass.dtype.itemsize * mass.shape[1])))\n",
    "_, idx = np.unique(T, return_index=True)\n",
    "a = mass[idx]\n",
    "print(a)\n"
   ]
  },
  {
   "cell_type": "markdown",
   "metadata": {},
   "source": [
    "## 19. Даны векторы A и B, написать einsum эквиваленты функций inner, outer, sum и mul"
   ]
  },
  {
   "cell_type": "code",
   "execution_count": 80,
   "metadata": {},
   "outputs": [
    {
     "name": "stdout",
     "output_type": "stream",
     "text": [
      "[0.31357049 0.84044583 0.52449541 0.86890493 0.41908243]\n",
      "\n",
      "[0.84687307 0.11949741 0.71795385 0.44847746 0.29800874]\n"
     ]
    }
   ],
   "source": [
    "A = np.random.random((5,))\n",
    "B = np.random.random((5,))\n",
    "print(A)\n",
    "print()\n",
    "print(B)"
   ]
  },
  {
   "cell_type": "code",
   "execution_count": 82,
   "metadata": {},
   "outputs": [
    {
     "data": {
      "text/plain": [
       "1.2571234923159424"
      ]
     },
     "execution_count": 82,
     "metadata": {},
     "output_type": "execute_result"
    }
   ],
   "source": [
    "np.einsum('i,i', A, B)"
   ]
  },
  {
   "cell_type": "code",
   "execution_count": 83,
   "metadata": {},
   "outputs": [
    {
     "data": {
      "text/plain": [
       "array([[0.2655544 , 0.03747086, 0.22512914, 0.14062929, 0.09344674],\n",
       "       [0.71175093, 0.1004311 , 0.60340132, 0.37692101, 0.2504602 ],\n",
       "       [0.44418103, 0.06267584, 0.3765635 , 0.23522437, 0.15630421],\n",
       "       [0.73585218, 0.10383189, 0.62383364, 0.38968428, 0.25894126],\n",
       "       [0.35490963, 0.05007926, 0.30088185, 0.18794903, 0.12489023]])"
      ]
     },
     "execution_count": 83,
     "metadata": {},
     "output_type": "execute_result"
    }
   ],
   "source": [
    "np.einsum('i,j', A, B)"
   ]
  },
  {
   "cell_type": "code",
   "execution_count": 84,
   "metadata": {},
   "outputs": [
    {
     "data": {
      "text/plain": [
       "2.9664990815923886"
      ]
     },
     "execution_count": 84,
     "metadata": {},
     "output_type": "execute_result"
    }
   ],
   "source": [
    "np.einsum('i->', A)"
   ]
  },
  {
   "cell_type": "code",
   "execution_count": 86,
   "metadata": {},
   "outputs": [
    {
     "data": {
      "text/plain": [
       "array([0.2655544 , 0.1004311 , 0.3765635 , 0.38968428, 0.12489023])"
      ]
     },
     "execution_count": 86,
     "metadata": {},
     "output_type": "execute_result"
    }
   ],
   "source": [
    "np.einsum('i,i->i', A, B)"
   ]
  }
 ],
 "metadata": {
  "kernelspec": {
   "display_name": "Python 3",
   "language": "python",
   "name": "python3"
  },
  "language_info": {
   "codemirror_mode": {
    "name": "ipython",
    "version": 3
   },
   "file_extension": ".py",
   "mimetype": "text/x-python",
   "name": "python",
   "nbconvert_exporter": "python",
   "pygments_lexer": "ipython3",
   "version": "3.8.3"
  }
 },
 "nbformat": 4,
 "nbformat_minor": 4
}
