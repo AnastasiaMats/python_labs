{
 "cells": [
  {
   "cell_type": "markdown",
   "metadata": {},
   "source": [
    "# Лабораторная работа № 5"
   ]
  },
  {
   "cell_type": "markdown",
   "metadata": {},
   "source": [
    "Мацыкина А.С."
   ]
  },
  {
   "cell_type": "markdown",
   "metadata": {},
   "source": [
    "Группа: Т12О-101М-20"
   ]
  },
  {
   "cell_type": "markdown",
   "metadata": {},
   "source": [
    "Дата: 19.11.2020"
   ]
  },
  {
   "cell_type": "code",
   "execution_count": 1,
   "metadata": {},
   "outputs": [],
   "source": [
    "import sys\n",
    "import numpy as np\n",
    "import pandas as pd"
   ]
  },
  {
   "cell_type": "markdown",
   "metadata": {},
   "source": [
    "### 1. Получить от объекта Series показатели описательной статистики"
   ]
  },
  {
   "cell_type": "code",
   "execution_count": 11,
   "metadata": {},
   "outputs": [
    {
     "name": "stdout",
     "output_type": "stream",
     "text": [
      "0     15.992019\n",
      "1      2.474945\n",
      "2      6.677313\n",
      "3     13.208854\n",
      "4      7.220991\n",
      "5     10.597108\n",
      "6      8.809410\n",
      "7      7.374734\n",
      "8     10.093219\n",
      "9     16.120725\n",
      "10     8.565771\n",
      "11    12.732734\n",
      "12    12.754783\n",
      "13     8.172333\n",
      "14    14.308485\n",
      "15     7.084638\n",
      "16     7.705076\n",
      "17     7.163546\n",
      "18     8.168535\n",
      "19    11.551472\n",
      "20     7.383461\n",
      "21     8.800650\n",
      "22     7.701107\n",
      "23    13.405090\n",
      "24    12.971403\n",
      "dtype: float64\n",
      "\n",
      "count    25.000000\n",
      "mean      9.881536\n",
      "std       3.341414\n",
      "min       2.474945\n",
      "25%       7.383461\n",
      "50%       8.800650\n",
      "75%      12.754783\n",
      "max      16.120725\n",
      "dtype: float64\n"
     ]
    }
   ],
   "source": [
    "s = pd.Series(np.random.normal(10, 5, 25))\n",
    "print(s)\n",
    "print()\n",
    "a = s.describe()\n",
    "print(a)"
   ]
  },
  {
   "cell_type": "markdown",
   "metadata": {},
   "source": [
    "### 2. Узнать частоту уникальных элементов объекта Series (гистограмма)"
   ]
  },
  {
   "cell_type": "code",
   "execution_count": 5,
   "metadata": {},
   "outputs": [
    {
     "name": "stdout",
     "output_type": "stream",
     "text": [
      "o    5\n",
      "l    4\n",
      "dtype: int64\n"
     ]
    }
   ],
   "source": [
    "src_list = list('ololololo')\n",
    "s1 = pd.Series(src_list)\n",
    "ans = s1.value_counts()\n",
    "print(ans)"
   ]
  },
  {
   "cell_type": "markdown",
   "metadata": {},
   "source": [
    "### 3. Заменить все элементы объекта Series на \"Other\", кроме двух наиболее часто встречающихся"
   ]
  },
  {
   "cell_type": "code",
   "execution_count": 12,
   "metadata": {},
   "outputs": [
    {
     "name": "stdout",
     "output_type": "stream",
     "text": [
      "0     1\n",
      "1     3\n",
      "2     3\n",
      "3     2\n",
      "4     2\n",
      "5     4\n",
      "6     2\n",
      "7     2\n",
      "8     1\n",
      "9     3\n",
      "10    1\n",
      "11    4\n",
      "12    1\n",
      "dtype: int32\n",
      "\n",
      "2    4\n",
      "1    4\n",
      "3    3\n",
      "4    2\n",
      "dtype: int64\n",
      "\n",
      "0         1\n",
      "1     Other\n",
      "2     Other\n",
      "3         2\n",
      "4         2\n",
      "5     Other\n",
      "6         2\n",
      "7         2\n",
      "8         1\n",
      "9     Other\n",
      "10        1\n",
      "11    Other\n",
      "12        1\n",
      "dtype: object\n"
     ]
    }
   ],
   "source": [
    "s = pd.Series(np.random.randint(low=1, high=5, size=[13]))\n",
    "print(s)\n",
    "print()\n",
    "print(s.value_counts())\n",
    "print()\n",
    "s[~s.isin(s.value_counts().index[:2])] = 'Other'\n",
    "print(s)"
   ]
  },
  {
   "cell_type": "markdown",
   "metadata": {},
   "source": [
    "### 4. Создать объект Series в индексах дата каждый день 2019 года, в значениях случайное значение"
   ]
  },
  {
   "cell_type": "code",
   "execution_count": 19,
   "metadata": {},
   "outputs": [
    {
     "name": "stdout",
     "output_type": "stream",
     "text": [
      "DatetimeIndex(['2019-01-01', '2019-01-02', '2019-01-03', '2019-01-04',\n",
      "               '2019-01-05', '2019-01-06', '2019-01-07', '2019-01-08',\n",
      "               '2019-01-09', '2019-01-10',\n",
      "               ...\n",
      "               '2019-12-22', '2019-12-23', '2019-12-24', '2019-12-25',\n",
      "               '2019-12-26', '2019-12-27', '2019-12-28', '2019-12-29',\n",
      "               '2019-12-30', '2019-12-31'],\n",
      "              dtype='datetime64[ns]', length=365, freq='D')\n",
      "\n",
      "2019-01-01    0.505295\n",
      "2019-01-02    0.417291\n",
      "2019-01-03    0.078110\n",
      "2019-01-04    0.351466\n",
      "2019-01-05    0.938676\n",
      "                ...   \n",
      "2019-12-27    0.478476\n",
      "2019-12-28    0.418959\n",
      "2019-12-29    0.260505\n",
      "2019-12-30    0.731637\n",
      "2019-12-31    0.999792\n",
      "Freq: D, Length: 365, dtype: float64\n"
     ]
    }
   ],
   "source": [
    "dti = pd.date_range(start='2019-01-01', end='2019-12-31') \n",
    "print(dti)\n",
    "print()\n",
    "s = pd.Series(np.random.rand(len(dti)), index=dti)\n",
    "print(s)"
   ]
  },
  {
   "cell_type": "markdown",
   "metadata": {},
   "source": [
    "##### Найти сумму всех вторников"
   ]
  },
  {
   "cell_type": "code",
   "execution_count": 22,
   "metadata": {},
   "outputs": [
    {
     "name": "stdout",
     "output_type": "stream",
     "text": [
      "27.211960295904767\n"
     ]
    }
   ],
   "source": [
    "ans1 = s[s.index.weekday == 1].sum()\n",
    "print(ans1)"
   ]
  },
  {
   "cell_type": "markdown",
   "metadata": {},
   "source": [
    "##### Для каждого месяца найти среднее значение"
   ]
  },
  {
   "cell_type": "code",
   "execution_count": 18,
   "metadata": {},
   "outputs": [
    {
     "name": "stdout",
     "output_type": "stream",
     "text": [
      "2019-01-31    0.533053\n",
      "2019-02-28    0.524910\n",
      "2019-03-31    0.515025\n",
      "2019-04-30    0.542800\n",
      "2019-05-31    0.578878\n",
      "2019-06-30    0.448282\n",
      "2019-07-31    0.419153\n",
      "2019-08-31    0.548346\n",
      "2019-09-30    0.574351\n",
      "2019-10-31    0.515787\n",
      "2019-11-30    0.492592\n",
      "2019-12-31    0.441586\n",
      "Freq: M, dtype: float64\n"
     ]
    }
   ],
   "source": [
    "ans2 = s.resample('M').mean()\n",
    "print(ans2)"
   ]
  },
  {
   "cell_type": "markdown",
   "metadata": {},
   "source": [
    "### 5. Преобразовать объект Series в DataFrame заданной формы (shape"
   ]
  },
  {
   "cell_type": "code",
   "execution_count": 24,
   "metadata": {},
   "outputs": [
    {
     "name": "stdout",
     "output_type": "stream",
     "text": [
      "0     1\n",
      "1     4\n",
      "2     3\n",
      "3     1\n",
      "4     7\n",
      "5     7\n",
      "6     6\n",
      "7     8\n",
      "8     6\n",
      "9     7\n",
      "10    7\n",
      "11    1\n",
      "12    5\n",
      "13    4\n",
      "14    9\n",
      "15    6\n",
      "16    9\n",
      "17    5\n",
      "18    8\n",
      "19    3\n",
      "20    2\n",
      "21    1\n",
      "22    3\n",
      "23    1\n",
      "24    5\n",
      "25    3\n",
      "26    2\n",
      "27    2\n",
      "28    9\n",
      "29    8\n",
      "30    2\n",
      "31    1\n",
      "32    2\n",
      "33    8\n",
      "34    6\n",
      "dtype: int32\n",
      "\n",
      "   0  1  2  3  4\n",
      "0  1  4  3  1  7\n",
      "1  7  6  8  6  7\n",
      "2  7  1  5  4  9\n",
      "3  6  9  5  8  3\n",
      "4  2  1  3  1  5\n",
      "5  3  2  2  9  8\n",
      "6  2  1  2  8  6\n"
     ]
    }
   ],
   "source": [
    "s = pd.Series(np.random.randint(low=1, high=10, size=[35]))\n",
    "print(s)\n",
    "print()\n",
    "\n",
    "r = (7, 5)    \n",
    "df = pd.DataFrame(s.values.reshape(r))\n",
    "print(df)"
   ]
  },
  {
   "cell_type": "markdown",
   "metadata": {},
   "source": [
    "### 6. Найти индексы объекта Series кратные 3"
   ]
  },
  {
   "cell_type": "code",
   "execution_count": 32,
   "metadata": {},
   "outputs": [
    {
     "name": "stdout",
     "output_type": "stream",
     "text": [
      "0    6\n",
      "1    2\n",
      "2    2\n",
      "3    7\n",
      "4    8\n",
      "5    3\n",
      "6    8\n",
      "dtype: int32\n",
      "\n",
      "Int64Index([0, 5], dtype='int64')\n"
     ]
    }
   ],
   "source": [
    "s = pd.Series(np.random.randint(low=1, high=10, size=[7]))\n",
    "print(s)\n",
    "print()\n",
    "ans2 = s[s % 3 == 0].index\n",
    "print(ans2)"
   ]
  },
  {
   "cell_type": "markdown",
   "metadata": {},
   "source": [
    "### 7. Получить данные по индексам объекта Series"
   ]
  },
  {
   "cell_type": "code",
   "execution_count": 35,
   "metadata": {},
   "outputs": [
    {
     "name": "stdout",
     "output_type": "stream",
     "text": [
      "0    o\n",
      "4    o\n",
      "7    l\n",
      "8    o\n",
      "dtype: object\n"
     ]
    }
   ],
   "source": [
    "src_list = list('ololololo')\n",
    "s1 = pd.Series(src_list)\n",
    "p = [0, 4, 7, 8]\n",
    "ans = s1[p]\n",
    "print(ans)"
   ]
  },
  {
   "cell_type": "markdown",
   "metadata": {},
   "source": [
    "### 8. Объединить два объекта Series вертикально и горизонтально"
   ]
  },
  {
   "cell_type": "code",
   "execution_count": 37,
   "metadata": {},
   "outputs": [
    {
     "name": "stdout",
     "output_type": "stream",
     "text": [
      "0    o\n",
      "1    l\n",
      "2    o\n",
      "3    l\n",
      "4    o\n",
      "5    l\n",
      "6    o\n",
      "7    l\n",
      "8    o\n",
      "dtype: object\n",
      "\n",
      "0    0\n",
      "1    1\n",
      "2    2\n",
      "3    3\n",
      "4    4\n",
      "5    5\n",
      "6    6\n",
      "7    7\n",
      "8    8\n",
      "9    9\n",
      "dtype: int32\n",
      "\n",
      "0    o\n",
      "1    l\n",
      "2    o\n",
      "3    l\n",
      "4    o\n",
      "5    l\n",
      "6    o\n",
      "7    l\n",
      "8    o\n",
      "0    0\n",
      "1    1\n",
      "2    2\n",
      "3    3\n",
      "4    4\n",
      "5    5\n",
      "6    6\n",
      "7    7\n",
      "8    8\n",
      "9    9\n",
      "dtype: object\n",
      "\n",
      "     0  1\n",
      "0    o  0\n",
      "1    l  1\n",
      "2    o  2\n",
      "3    l  3\n",
      "4    o  4\n",
      "5    l  5\n",
      "6    o  6\n",
      "7    l  7\n",
      "8    o  8\n",
      "9  NaN  9\n"
     ]
    }
   ],
   "source": [
    "src_list = list('ololololo')\n",
    "src_arr = np.arange(10)\n",
    "s1 = pd.Series(src_list)\n",
    "s2 = pd.Series(src_arr)\n",
    "print(s1)\n",
    "print()\n",
    "print(s2)\n",
    "print()\n",
    "ans_vertical = s1.append(s2)\n",
    "ans_horizontal = pd.concat([s1, s2], axis=1)\n",
    " \n",
    "print(ans_vertical)\n",
    "print()\n",
    "print(ans_horizontal)"
   ]
  },
  {
   "cell_type": "markdown",
   "metadata": {},
   "source": [
    "### 9. Получить индексы объекта Series A, данные которых содержатся в объетке Series B"
   ]
  },
  {
   "cell_type": "code",
   "execution_count": 44,
   "metadata": {},
   "outputs": [
    {
     "name": "stdout",
     "output_type": "stream",
     "text": [
      "0     5\n",
      "1     3\n",
      "2     2\n",
      "3     1\n",
      "4     4\n",
      "5    11\n",
      "6    13\n",
      "7     8\n",
      "8     7\n",
      "dtype: int64\n",
      "\n",
      "0     1\n",
      "1     5\n",
      "2    13\n",
      "3     2\n",
      "dtype: int64\n",
      "\n",
      "[3 0 6 2]\n"
     ]
    }
   ],
   "source": [
    "s1 = pd.Series([5, 3, 2, 1, 4, 11, 13, 8, 7])\n",
    "s2 = pd.Series([1, 5, 13, 2])\n",
    "print(s1)\n",
    "print()\n",
    "print(s2)\n",
    "print()\n",
    "ans1 = np.asarray([np.where(i == s1)[0].tolist()[0] for i in s2])\n",
    "print(ans1)"
   ]
  },
  {
   "cell_type": "markdown",
   "metadata": {},
   "source": [
    "### 10. Получить объект Series B, котоырй содержит элементы без повторений объекта A"
   ]
  },
  {
   "cell_type": "code",
   "execution_count": 47,
   "metadata": {},
   "outputs": [
    {
     "name": "stdout",
     "output_type": "stream",
     "text": [
      "0    1\n",
      "1    1\n",
      "2    2\n",
      "3    2\n",
      "4    3\n",
      "5    4\n",
      "6    4\n",
      "7    5\n",
      "dtype: int64\n",
      "\n",
      "0    1\n",
      "1    2\n",
      "2    3\n",
      "3    4\n",
      "4    5\n",
      "dtype: int64\n"
     ]
    }
   ],
   "source": [
    "s = pd.Series([1, 1, 2, 2, 3, 4, 4, 5])\n",
    "print(s)\n",
    "print()\n",
    "ans = pd.Series(s.unique())\n",
    "print(ans)"
   ]
  },
  {
   "cell_type": "markdown",
   "metadata": {},
   "source": [
    "### 11. Преобразовать каждый символ объекта Series в верхний регистр"
   ]
  },
  {
   "cell_type": "code",
   "execution_count": 51,
   "metadata": {},
   "outputs": [
    {
     "name": "stdout",
     "output_type": "stream",
     "text": [
      "0    o\n",
      "1    l\n",
      "2    o\n",
      "3    l\n",
      "4    o\n",
      "5    l\n",
      "6    o\n",
      "7    l\n",
      "8    o\n",
      "dtype: object\n",
      "\n",
      "0    o\n",
      "1    l\n",
      "2    o\n",
      "3    l\n",
      "4    o\n",
      "5    l\n",
      "6    o\n",
      "7    l\n",
      "8    o\n",
      "dtype: object\n",
      "\n",
      "0    O\n",
      "1    L\n",
      "2    O\n",
      "3    L\n",
      "4    O\n",
      "5    L\n",
      "6    O\n",
      "7    L\n",
      "8    O\n",
      "dtype: object\n"
     ]
    }
   ],
   "source": [
    "s = pd.Series(list('ololololo'))\n",
    "print(s)\n",
    "print()\n",
    "s1 = pd.Series(str(i) for i in s)\n",
    "print(s1)\n",
    "print()\n",
    "ans = pd.Series(i.title() for i in s1)\n",
    "print(ans)"
   ]
  },
  {
   "cell_type": "markdown",
   "metadata": {},
   "source": [
    "### 12. Рассчитать количество символов в объекте Series "
   ]
  },
  {
   "cell_type": "code",
   "execution_count": 54,
   "metadata": {},
   "outputs": [
    {
     "name": "stdout",
     "output_type": "stream",
     "text": [
      "0    o\n",
      "1    l\n",
      "2    o\n",
      "3    l\n",
      "4    o\n",
      "5    l\n",
      "6    o\n",
      "7    l\n",
      "8    o\n",
      "dtype: object\n",
      "\n",
      "0    o\n",
      "1    l\n",
      "2    o\n",
      "3    l\n",
      "4    o\n",
      "5    l\n",
      "6    o\n",
      "7    l\n",
      "8    o\n",
      "dtype: object\n",
      "\n",
      "[1 1 1 1 1 1 1 1 1]\n"
     ]
    }
   ],
   "source": [
    "s = pd.Series(list('ololololo'))\n",
    "print(s)\n",
    "print()\n",
    "s1 = pd.Series(str(i) for i in s1)\n",
    "print(s1)\n",
    "print()\n",
    "ans = np.asarray([len(i) for i in s1])\n",
    "print(ans)"
   ]
  },
  {
   "cell_type": "markdown",
   "metadata": {},
   "source": [
    "### 13. Найти разность между объектом Series и смещением объекта Series на n"
   ]
  },
  {
   "cell_type": "code",
   "execution_count": 56,
   "metadata": {},
   "outputs": [
    {
     "name": "stdout",
     "output_type": "stream",
     "text": [
      "0     1\n",
      "1     5\n",
      "2     7\n",
      "3     8\n",
      "4    12\n",
      "5    15\n",
      "6    17\n",
      "dtype: int64\n",
      "\n",
      "0    NaN\n",
      "1    4.0\n",
      "2    2.0\n",
      "3    1.0\n",
      "4    4.0\n",
      "5    3.0\n",
      "6    2.0\n",
      "dtype: float64\n"
     ]
    }
   ],
   "source": [
    "s = pd.Series([1, 5, 7, 8, 12, 15, 17])\n",
    "print(s)\n",
    "print()\n",
    "n = 1\n",
    "ans = s.diff(periods=n)\n",
    " \n",
    "print(ans)"
   ]
  },
  {
   "cell_type": "markdown",
   "metadata": {},
   "source": [
    "### 14. Преобразовать разыне форматы строк объекта Series в дату"
   ]
  },
  {
   "cell_type": "code",
   "execution_count": 63,
   "metadata": {},
   "outputs": [
    {
     "name": "stdout",
     "output_type": "stream",
     "text": [
      "0     2020-11-20\n",
      "1    19 Nov 2020\n",
      "2     2020/11/18\n",
      "dtype: object\n",
      "\n",
      "0   2020-11-20\n",
      "1   2020-11-19\n",
      "2   2020-11-18\n",
      "dtype: datetime64[ns]\n"
     ]
    }
   ],
   "source": [
    "s = pd.Series(['2020-11-20', '19 Nov 2020', '2020/11/18'])\n",
    "print(s)\n",
    "print()\n",
    "ans = pd.to_datetime(s)\n",
    "print(ans)"
   ]
  },
  {
   "cell_type": "markdown",
   "metadata": {},
   "source": [
    "### 15. Поскольку работа с датой часто встречается в работе, то см. еще один пример"
   ]
  },
  {
   "cell_type": "markdown",
   "metadata": {},
   "source": [
    "##### все данные должны иметь одинаковый формат (часто бывает выгрузка из SQL)"
   ]
  },
  {
   "cell_type": "code",
   "execution_count": 61,
   "metadata": {},
   "outputs": [
    {
     "name": "stdout",
     "output_type": "stream",
     "text": [
      "0    20.11.2020\n",
      "1    19.11.2020\n",
      "2    18.11.2020\n",
      "dtype: object\n"
     ]
    }
   ],
   "source": [
    "s = pd.Series(['20.11.2020', '19.11.2020', '18.11.2020'])\n",
    "print(s)"
   ]
  },
  {
   "cell_type": "markdown",
   "metadata": {},
   "source": [
    "##### преобразовать в дату"
   ]
  },
  {
   "cell_type": "code",
   "execution_count": 62,
   "metadata": {},
   "outputs": [
    {
     "name": "stdout",
     "output_type": "stream",
     "text": [
      "0   2020-11-20\n",
      "1   2020-11-19\n",
      "2   2020-11-18\n",
      "dtype: datetime64[ns]\n"
     ]
    }
   ],
   "source": [
    "ans = pd.to_datetime(s, format='%d.%m.%Y')\n",
    "print(ans)"
   ]
  },
  {
   "cell_type": "markdown",
   "metadata": {},
   "source": [
    "### 16. Получить год, месяц, день, день недели, номер дня в году от объекта Series (string)"
   ]
  },
  {
   "cell_type": "code",
   "execution_count": 64,
   "metadata": {},
   "outputs": [
    {
     "name": "stdout",
     "output_type": "stream",
     "text": [
      "0     2020-11-20\n",
      "1    19 Nov 2020\n",
      "2     2020/11/18\n",
      "3       20301117\n",
      "4     2020-11-16\n",
      "dtype: object\n"
     ]
    }
   ],
   "source": [
    "from dateutil.parser import parse\n",
    " \n",
    "s = pd.Series(['2020-11-20', '19 Nov 2020', '2020/11/18',  '20301117',  '2020-11-16'])\n",
    "print(s)"
   ]
  },
  {
   "cell_type": "markdown",
   "metadata": {},
   "source": [
    "##### распарсить в дату и время"
   ]
  },
  {
   "cell_type": "code",
   "execution_count": 66,
   "metadata": {},
   "outputs": [
    {
     "name": "stdout",
     "output_type": "stream",
     "text": [
      "0   2020-11-20\n",
      "1   2020-11-19\n",
      "2   2020-11-18\n",
      "3   2030-11-17\n",
      "4   2020-11-16\n",
      "dtype: datetime64[ns]\n"
     ]
    }
   ],
   "source": [
    "s_ts = s.map(lambda x: parse(x, yearfirst=True))\n",
    "print(s_ts)"
   ]
  },
  {
   "cell_type": "markdown",
   "metadata": {},
   "source": [
    "##### получить года"
   ]
  },
  {
   "cell_type": "code",
   "execution_count": 67,
   "metadata": {},
   "outputs": [
    {
     "name": "stdout",
     "output_type": "stream",
     "text": [
      "0    2020\n",
      "1    2020\n",
      "2    2020\n",
      "3    2030\n",
      "4    2020\n",
      "dtype: int64\n"
     ]
    }
   ],
   "source": [
    "print(s_ts.dt.year)"
   ]
  },
  {
   "cell_type": "markdown",
   "metadata": {},
   "source": [
    "##### получить месяца"
   ]
  },
  {
   "cell_type": "code",
   "execution_count": 68,
   "metadata": {},
   "outputs": [
    {
     "name": "stdout",
     "output_type": "stream",
     "text": [
      "0    11\n",
      "1    11\n",
      "2    11\n",
      "3    11\n",
      "4    11\n",
      "dtype: int64\n"
     ]
    }
   ],
   "source": [
    "print(s_ts.dt.month)"
   ]
  },
  {
   "cell_type": "markdown",
   "metadata": {},
   "source": [
    "##### получить дни"
   ]
  },
  {
   "cell_type": "code",
   "execution_count": 69,
   "metadata": {},
   "outputs": [
    {
     "name": "stdout",
     "output_type": "stream",
     "text": [
      "0    20\n",
      "1    19\n",
      "2    18\n",
      "3    17\n",
      "4    16\n",
      "dtype: int64\n"
     ]
    }
   ],
   "source": [
    "print(s_ts.dt.day)"
   ]
  },
  {
   "cell_type": "markdown",
   "metadata": {},
   "source": [
    "##### получить номер недели"
   ]
  },
  {
   "cell_type": "code",
   "execution_count": 70,
   "metadata": {},
   "outputs": [
    {
     "name": "stdout",
     "output_type": "stream",
     "text": [
      "0    47\n",
      "1    47\n",
      "2    47\n",
      "3    46\n",
      "4    47\n",
      "dtype: int64\n"
     ]
    },
    {
     "name": "stderr",
     "output_type": "stream",
     "text": [
      "<ipython-input-70-22fcabb6c3db>:1: FutureWarning: Series.dt.weekofyear and Series.dt.week have been deprecated.  Please use Series.dt.isocalendar().week instead.\n",
      "  print(s_ts.dt.weekofyear)\n"
     ]
    }
   ],
   "source": [
    "print(s_ts.dt.weekofyear)"
   ]
  },
  {
   "cell_type": "markdown",
   "metadata": {},
   "source": [
    "##### получить номер дня в году"
   ]
  },
  {
   "cell_type": "code",
   "execution_count": 71,
   "metadata": {},
   "outputs": [
    {
     "name": "stdout",
     "output_type": "stream",
     "text": [
      "0    325\n",
      "1    324\n",
      "2    323\n",
      "3    321\n",
      "4    321\n",
      "dtype: int64\n"
     ]
    }
   ],
   "source": [
    "print(s_ts.dt.dayofyear)"
   ]
  },
  {
   "cell_type": "markdown",
   "metadata": {},
   "source": [
    "### 17. Отобрать элементы объекта Series, кторые содержат не менее двух гласных"
   ]
  },
  {
   "cell_type": "code",
   "execution_count": 72,
   "metadata": {},
   "outputs": [
    {
     "name": "stdout",
     "output_type": "stream",
     "text": [
      "0    Цифра\n",
      "1    Буква\n",
      "2    Минус\n",
      "3     Плюс\n",
      "dtype: object\n",
      "\n",
      "0    Цифра\n",
      "1    Буква\n",
      "2    Минус\n",
      "dtype: object\n"
     ]
    }
   ],
   "source": [
    "from collections import Counter\n",
    "\n",
    "s = pd.Series(['Цифра', 'Буква', 'Минус', 'Плюс',])\n",
    "print(s)\n",
    "print()\n",
    "mask = s.map(lambda x: sum([Counter(x.lower()).get(i, 0) for i in list('ауоыиэяюёе')]) >= 2)\n",
    "\n",
    "ans = s[mask]\n",
    "print(ans)"
   ]
  },
  {
   "cell_type": "markdown",
   "metadata": {},
   "source": [
    "### 18. Отобрать e-маилы из объекта Series (можно юзать регулярки)"
   ]
  },
  {
   "cell_type": "code",
   "execution_count": 73,
   "metadata": {},
   "outputs": [
    {
     "name": "stdout",
     "output_type": "stream",
     "text": [
      "0    test text @test.com\n",
      "1           test@mail.ru\n",
      "2               test.2ru\n",
      "3                test@pp\n",
      "dtype: object\n",
      "\n",
      "1    test@mail.ru\n",
      "dtype: object\n"
     ]
    }
   ],
   "source": [
    "import re\n",
    "emails = pd.Series(['test text @test.com', 'test@mail.ru', 'test.2ru', 'test@pp'])\n",
    "print(emails)\n",
    "print()\n",
    "\n",
    "pattern = '[A-Za-z0-9._%+-]+@[A-Za-z0-9.-]+\\\\.[A-Za-z]{2,4}'\n",
    "\n",
    "mask = emails.map(lambda x: bool(re.match(pattern, x)))\n",
    "ans = emails[mask]\n",
    "print(ans)"
   ]
  },
  {
   "cell_type": "markdown",
   "metadata": {},
   "source": [
    "### 19. Получить среднее значение каждого уникального объекта Series s1 через \"маску\" другого объекта Series s2"
   ]
  },
  {
   "cell_type": "code",
   "execution_count": 77,
   "metadata": {},
   "outputs": [
    {
     "name": "stdout",
     "output_type": "stream",
     "text": [
      "0    three\n",
      "1    three\n",
      "2    three\n",
      "3      two\n",
      "4     four\n",
      "5     four\n",
      "6    three\n",
      "7     four\n",
      "8      two\n",
      "9     four\n",
      "dtype: object\n",
      "\n",
      "0     1.0\n",
      "1     2.0\n",
      "2     3.0\n",
      "3     4.0\n",
      "4     5.0\n",
      "5     6.0\n",
      "6     7.0\n",
      "7     8.0\n",
      "8     9.0\n",
      "9    10.0\n",
      "dtype: float64\n",
      "\n",
      "four     7.25\n",
      "three    3.25\n",
      "two      6.50\n",
      "dtype: float64\n"
     ]
    }
   ],
   "source": [
    "n = 10\n",
    "s1 = pd.Series(np.random.choice(['one', 'two', 'three', 'four'], n))\n",
    "print(s1)\n",
    "print()\n",
    "s2 = pd.Series(np.linspace(1,n,n))\n",
    "print(s2)\n",
    "print()\n",
    "ans = s2.groupby(s1).mean()\n",
    "print(ans)"
   ]
  },
  {
   "cell_type": "code",
   "execution_count": null,
   "metadata": {},
   "outputs": [],
   "source": []
  }
 ],
 "metadata": {
  "kernelspec": {
   "display_name": "Python 3",
   "language": "python",
   "name": "python3"
  },
  "language_info": {
   "codemirror_mode": {
    "name": "ipython",
    "version": 3
   },
   "file_extension": ".py",
   "mimetype": "text/x-python",
   "name": "python",
   "nbconvert_exporter": "python",
   "pygments_lexer": "ipython3",
   "version": "3.8.3"
  }
 },
 "nbformat": 4,
 "nbformat_minor": 4
}
